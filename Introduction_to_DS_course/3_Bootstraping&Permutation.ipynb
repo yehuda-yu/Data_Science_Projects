{
  "cells": [
    {
      "cell_type": "markdown",
      "metadata": {
        "id": "view-in-github",
        "colab_type": "text"
      },
      "source": [
        "<a href=\"https://colab.research.google.com/github/yehuda-yu/Data_Science_Projects/blob/main/4_Bootstraping%26Permutation.ipynb\" target=\"_parent\"><img src=\"https://colab.research.google.com/assets/colab-badge.svg\" alt=\"Open In Colab\"/></a>"
      ]
    },
    {
      "cell_type": "markdown",
      "metadata": {
        "id": "MJ0NYXsJDJtf"
      },
      "source": [
        "# Intro to Data Sciecne (71253) - Problem Set 3"
      ]
    },
    {
      "cell_type": "markdown",
      "metadata": {
        "id": "naQvQkkJDJtl"
      },
      "source": [
        "## 1. Swain vs. Alabama, 1956"
      ]
    },
    {
      "cell_type": "markdown",
      "metadata": {
        "id": "00F8kKORDJtm"
      },
      "source": [
        "Swain was a black man convicted of rape in Alabama in 1956.  \n",
        "The conviction was appealed, in part on the grounds that there were no black jurors.  \n",
        "26% of the eligble jury pool were black.  \n",
        "Swain's jury panel consisted of 100 men, 8 of which were black. (all were later excluded from the final jury).\n",
        "\n",
        "The appeal was rejected by the Supreme Court, stating that the \"overall percentage disparity has been small\".\n",
        "\n",
        "We are going to study whether this statement is valid statistically."
      ]
    },
    {
      "cell_type": "markdown",
      "metadata": {
        "id": "AcEQ8NTWDJtn"
      },
      "source": [
        "### 1.1 How many black jurors are in a random sample? "
      ]
    },
    {
      "cell_type": "markdown",
      "metadata": {
        "id": "irwsIJpzDJtp"
      },
      "source": [
        "Write a functions that draws at random a jury panel of 100 people from an eligble population with 26% blacks and returns the number of black jurors.  \n",
        "> The numpy `rand` function may be useful. "
      ]
    },
    {
      "cell_type": "code",
      "source": [
        "import numpy as np\n",
        "from numpy.random import rand\n",
        "import random\n",
        "import seaborn as sns\n",
        "import scipy.stats as stats\n",
        "import pandas as pd\n",
        "import seaborn as sns\n",
        "import matplotlib.pyplot as plt"
      ],
      "metadata": {
        "id": "hJ08MwjUEt_G"
      },
      "execution_count": null,
      "outputs": []
    },
    {
      "cell_type": "markdown",
      "source": [
        "First we need to define how many people lived in Alabama 1956.\n",
        "By searching in google i found that the population has 3.071 milion people.\n",
        "We assume that 26 % is the fraction of black people in the population"
      ],
      "metadata": {
        "id": "VRCMs5qrOH5P"
      }
    },
    {
      "cell_type": "code",
      "source": [
        "pop = 3.071e6\n",
        "black_alabama =int(0.26*pop)\n",
        "white_alabama = int((1-0.26)*pop)\n",
        "print(f\"In Alabama 1956 there was {black_alabama} black people, and {white_alabama} white people.\" )"
      ],
      "metadata": {
        "colab": {
          "base_uri": "https://localhost:8080/"
        },
        "id": "EYs18oSkOhSF",
        "outputId": "728832d9-3609-42a0-d7a3-788f783bc8b7"
      },
      "execution_count": null,
      "outputs": [
        {
          "output_type": "stream",
          "name": "stdout",
          "text": [
            "In Alabama 1956 there was 798460 black people, and 2272540 white people.\n"
          ]
        }
      ]
    },
    {
      "cell_type": "code",
      "source": [
        "def blacks_in_jury_panel(black_alabama,white_alabama, n_times): \n",
        "  pooled_results = [] #empty list to append the results\n",
        "  for i in range(n_times):\n",
        "    black_population = np.ones(black_alabama) # array with values of 1. len = black people\n",
        "    white_population = np.zeros(white_alabama) # array with values of 0. len = white people\n",
        "    population = np.concatenate((white_population ,black_population)) # concat the arrays to one array\n",
        "    np.random.shuffle(population) # shuffle the array\n",
        "    jurors_selected = np.random.choice(population,100) # choose randomly 100 people\n",
        "    n_black = np.count_nonzero(jurors_selected) # all the non zero is the black people\n",
        "    pooled_results.append(n_black)\n",
        "  return pooled_results"
      ],
      "metadata": {
        "id": "W6EhjYe7Igfd"
      },
      "execution_count": null,
      "outputs": []
    },
    {
      "cell_type": "code",
      "source": [
        "# Lets apply the function 10 times with another function for example:\n",
        "results =  blacks_in_jury_panel(black_alabama,white_alabama, 10)\n",
        "print(results)"
      ],
      "metadata": {
        "colab": {
          "base_uri": "https://localhost:8080/"
        },
        "id": "Ow4yA37JQRbZ",
        "outputId": "df8369b0-c0b6-4d8f-a262-c5ccfe1025fd"
      },
      "execution_count": null,
      "outputs": [
        {
          "output_type": "stream",
          "name": "stdout",
          "text": [
            "[23, 28, 20, 29, 32, 21, 24, 28, 40, 26]\n"
          ]
        }
      ]
    },
    {
      "cell_type": "markdown",
      "metadata": {
        "id": "FC4ziYd8DJtt"
      },
      "source": [
        "### 1.2 What is the distribution of number of black jurors in a random panel?"
      ]
    },
    {
      "cell_type": "markdown",
      "metadata": {
        "id": "FZ37q578DJtv"
      },
      "source": [
        "Use the function you've created to compute the number of black jurors in 1000 random panels.  \n",
        "Plot the distribution of that number."
      ]
    },
    {
      "cell_type": "code",
      "source": [
        "# 1: apply the function over 1000 times\n",
        "dist_1000 =  blacks_in_jury_panel(black_alabama,white_alabama, 1000)\n",
        "\n",
        "# 2: create df from the results\n",
        "df = pd.DataFrame(dist_1000, columns = [\"black_jurors_n\"])"
      ],
      "metadata": {
        "id": "8VQ0z6CVVbTI"
      },
      "execution_count": null,
      "outputs": []
    },
    {
      "cell_type": "code",
      "source": [
        "# 3: ploting the distribiution:\n",
        "sns.set_theme(style=\"whitegrid\")\n",
        "fig, ax = plt.subplots(1, figsize=(8,6))\n",
        "ax = sns.distplot(x=df['black_jurors_n'], kde = True)\n",
        "plt.axvline(x=df['black_jurors_n'].mean(), color='red',ls='--',lw=3,label = f\"Mean = {int(df['black_jurors_n'].mean())}\")\n",
        "plt.axvline(x=df['black_jurors_n'].median(),color='black',ls='--',lw=3,label = f\"Median = {int(df['black_jurors_n'].median())}\")\n",
        "ax.set_xlabel(\"Black jurors Precentege (%)\",fontsize=20)\n",
        "ax.set_ylabel(\"Density\",fontsize=20)\n",
        "ax.set_title(\"Black jurors Distribution\",fontsize=24)\n",
        "ax.xaxis.set_tick_params(labelsize=20)\n",
        "ax.yaxis.set_tick_params(labelsize=20)\n",
        "plt.legend(loc='best')"
      ],
      "metadata": {
        "colab": {
          "base_uri": "https://localhost:8080/"
        },
        "id": "P6_R2G18XohA",
        "outputId": "eeda1a86-7d73-48d2-8193-a232f1481d10"
      },
      "execution_count": null,
      "outputs": [
        {
          "output_type": "stream",
          "name": "stderr",
          "text": [
            "/usr/local/lib/python3.7/dist-packages/seaborn/distributions.py:2619: FutureWarning: `distplot` is a deprecated function and will be removed in a future version. Please adapt your code to use either `displot` (a figure-level function with similar flexibility) or `histplot` (an axes-level function for histograms).\n",
            "  warnings.warn(msg, FutureWarning)\n"
          ]
        },
        {
          "output_type": "execute_result",
          "data": {
            "text/plain": [
              "<matplotlib.legend.Legend at 0x7f16378d2890>"
            ]
          },
          "metadata": {},
          "execution_count": 6
        },
        {
          "output_type": "display_data",
          "data": {
            "text/plain": [
              "<Figure size 576x432 with 1 Axes>"
            ],
            "image/png": "[encoded data removed]"
          },
          "metadata": {}
        }
      ]
    },
    {
      "cell_type": "markdown",
      "metadata": {
        "id": "bPjmEqXEDJtw"
      },
      "source": [
        "### 1.3 What is the probability of getting a panel with 8 or less black jurors in a random panel?"
      ]
    },
    {
      "cell_type": "code",
      "source": [
        "print(f\"the probability of getting a panel with 8 or less black jurors in a random panel is {(len(df[df['black_jurors_n']<8])/len(df))*100} %\")"
      ],
      "metadata": {
        "colab": {
          "base_uri": "https://localhost:8080/"
        },
        "id": "WsXlYIpVZcuY",
        "outputId": "24e18ed0-17eb-46f6-964c-bf02d901391e"
      },
      "execution_count": null,
      "outputs": [
        {
          "output_type": "stream",
          "name": "stdout",
          "text": [
            "the probability of getting a panel with 8 or less black jurors in a random panel is 0.0 %\n"
          ]
        }
      ]
    },
    {
      "cell_type": "markdown",
      "metadata": {
        "id": "7sZClxSnDJtx"
      },
      "source": [
        "### 1.4 Given your results, what do you think of the Supreme Court's statement about the disparity between the number of blacks in the population and in the panle?"
      ]
    },
    {
      "cell_type": "markdown",
      "source": [
        "Not only are 8 jurors not within the range of standard deviation but **they are not even in the entire sample** ... \n",
        "\n",
        "So based on this analysis we can say that It can at **least be determined that this is an unfortunate mistake**. If not, it is an **attempt to cover inequality with incorrect statistical arguments**."
      ],
      "metadata": {
        "id": "EM6XORMybkmD"
      }
    },
    {
      "cell_type": "markdown",
      "metadata": {
        "id": "F7WIQw57DJty"
      },
      "source": [
        "*** "
      ]
    },
    {
      "cell_type": "markdown",
      "metadata": {
        "id": "3bMwrsQ-DJtz"
      },
      "source": [
        "## 2. Comparing wine ratings across countries"
      ]
    },
    {
      "cell_type": "markdown",
      "metadata": {
        "id": "4BTkOJtyDJt0"
      },
      "source": [
        "Wine magazine ranks wines from all over the word on a 100-point scale.   \n",
        "We would like to see whether some countries make better wines. We will focus on 4 countries: Cyprus, India, Chile, and Israel.  \n",
        "A dataset of ratings from the magazine is provided in the file 'wine.csv'. The rating is given by the 'points' variable."
      ]
    },
    {
      "cell_type": "markdown",
      "metadata": {
        "id": "pGfPD6TADJt1"
      },
      "source": [
        "### 2.1 Plot the ratings of wines from the 4 countries of interest (Cyprus, India, Chile, and Israel).\n"
      ]
    },
    {
      "cell_type": "markdown",
      "metadata": {
        "id": "9e4gmoMIDJt2"
      },
      "source": [
        "> Pick any plot type that you think is most informative and jusitfy your choice.  \n",
        "> You may pick more than one plot type. If you do, explain why multiple plot types are needed."
      ]
    },
    {
      "cell_type": "code",
      "source": [
        "path = \"/content/wine.csv\"\n",
        "df_wines = pd.read_csv(path)"
      ],
      "metadata": {
        "id": "X88uCOZreXfe"
      },
      "execution_count": null,
      "outputs": []
    },
    {
      "cell_type": "code",
      "source": [
        "# groupby the countries column:\n",
        "# df_wines_countries = df_wines.groupby('country')\n",
        "\n",
        "# define df for each country :\n",
        "Cyprus = df_wines[df_wines['country']==\"Cyprus\"]\n",
        "India = df_wines[df_wines['country']==\"India\"]\n",
        "Chile = df_wines[df_wines['country']==\"Chile\"]\n",
        "Israel = df_wines[df_wines['country']==\"Israel\"]\n",
        "\n",
        "# Join all to 1 df:\n",
        "df_wines_countries = pd.concat([Cyprus, India,Chile,Israel])\n",
        "\n",
        "# create boxplots with name of country and points:\n",
        "pallette = [\"#FF6B6B\",\"#FFD93D\",\"#6BCB77\", \"#4D96FF\"] #Create palette\n",
        "a = sns.violinplot(data = df_wines_countries,x = 'country', y =df_wines_countries.columns[4], inner=\"quartile\",\n",
        "                    cut=0, bw=.2, scale='width', linewidth=1,palette =pallette)\n",
        "a.set_title(\"Rating wines distribution\", fontsize =20)"
      ],
      "metadata": {
        "colab": {
          "base_uri": "https://localhost:8080/",
          "height": 323
        },
        "id": "ei1Ishf6wdS8",
        "outputId": "da6e4d0f-2a4c-4fb7-cdc7-9c89f6b42406"
      },
      "execution_count": null,
      "outputs": [
        {
          "output_type": "execute_result",
          "data": {
            "text/plain": [
              "Text(0.5, 1.0, 'Rating wines distribution')"
            ]
          },
          "metadata": {},
          "execution_count": 9
        },
        {
          "output_type": "display_data",
          "data": {
            "text/plain": [
              "<Figure size 432x288 with 1 Axes>"
            ],
            "image/png": "[encoded data removed]"
          },
          "metadata": {}
        }
      ]
    },
    {
      "cell_type": "markdown",
      "metadata": {
        "id": "z-PrxciPDJt3"
      },
      "source": [
        "### 2.2 What is the median rating of wines from each of the countries of interest?  "
      ]
    },
    {
      "cell_type": "markdown",
      "source": [
        "| country   |   count |   50% |    mean |     std |\n",
        "|:----------|:--------:|:------:|:--------:|:--------:|\n",
        "| Chile     |    4472 |    86 | 86.4935 | 2.69296 |\n",
        "| Cyprus    |      11 |    87 | 87.1818 | 1.60114 |\n",
        "| India     |       9 |    90 | 90.2222 | 1.71594 |\n",
        "| Israel    |     505 |    89 | 88.4713 | 2.47841 |"
      ],
      "metadata": {
        "id": "DgQqnf2m8yiY"
      }
    },
    {
      "cell_type": "markdown",
      "source": [
        "How to create this table?\n",
        "using this code 🔽"
      ],
      "metadata": {
        "id": "9F7-zJgS9MEK"
      }
    },
    {
      "cell_type": "code",
      "source": [
        "# create describe df and print it to markdown:\n",
        "desc = df_wines_countries.groupby('country')[\"points\"].describe()\n",
        "desc = desc[[\"count\",\"50%\",\"mean\", \"std\"]]\n",
        "\n",
        "from pandas import DataFrame\n",
        "from tabulate import tabulate\n",
        "\n",
        "print(tabulate(desc, tablefmt=\"pipe\", headers=\"keys\"))"
      ],
      "metadata": {
        "colab": {
          "base_uri": "https://localhost:8080/"
        },
        "id": "NCGPxoT_82Wu",
        "outputId": "2ef7e736-8073-4bca-9071-7eabc0789b10"
      },
      "execution_count": null,
      "outputs": [
        {
          "output_type": "stream",
          "name": "stdout",
          "text": [
            "| country   |   count |   50% |    mean |     std |\n",
            "|:----------|--------:|------:|--------:|--------:|\n",
            "| Chile     |    4472 |    86 | 86.4935 | 2.69296 |\n",
            "| Cyprus    |      11 |    87 | 87.1818 | 1.60114 |\n",
            "| India     |       9 |    90 | 90.2222 | 1.71594 |\n",
            "| Israel    |     505 |    89 | 88.4713 | 2.47841 |\n"
          ]
        }
      ]
    },
    {
      "cell_type": "markdown",
      "source": [
        "while the medians looks close to each other, There is big differences in the amount of samples for each country!"
      ],
      "metadata": {
        "id": "L21Z0OOGJfE3"
      }
    },
    {
      "cell_type": "markdown",
      "metadata": {
        "id": "mcswb97DDJt4"
      },
      "source": [
        "### 2.3 What are the standard errors of these medians? \n",
        "\n",
        "We need to do bootstaping to calculate the SE of median:"
      ]
    },
    {
      "cell_type": "markdown",
      "metadata": {
        "id": "tO7qo9N8DJt4"
      },
      "source": [
        "*** "
      ]
    },
    {
      "cell_type": "code",
      "source": [
        "countries = [\"Cyprus\",\"India\",\"Chile\",\"Israel\"] \n",
        "for i in countries:\n",
        "  sample_size = len(df_wines[df_wines['country']==i]) # the count of samples we have for each country\n",
        "  boot_straps = 1000  #1000 iretations\n",
        "  sample_medians = np.zeros(boot_straps)\n",
        "  for ii in range(boot_straps):\n",
        "    sample = np.random.choice(df_wines[df_wines['country']==i]['points'], \n",
        "                              size=sample_size,\n",
        "                              replace=True)\n",
        "    sample_medians[ii]= np.median(sample) # median of each iteration\n",
        "    # now we can find the standard deviation of the medians\n",
        "  se_median = sample_medians.std()\n",
        "  print(\"The standard error of the median of \", i, f\", calculated using bootstrapping is: {se_median:.3f} points\")   "
      ],
      "metadata": {
        "colab": {
          "base_uri": "https://localhost:8080/"
        },
        "id": "m-bAp24BKH77",
        "outputId": "04d81135-0030-4a96-aced-82b9d95a7dc0"
      },
      "execution_count": null,
      "outputs": [
        {
          "output_type": "stream",
          "name": "stdout",
          "text": [
            "The standard error of the median of  Cyprus , calculated using bootstrapping is: 0.834 points\n",
            "The standard error of the median of  India , calculated using bootstrapping is: 0.556 points\n",
            "The standard error of the median of  Chile , calculated using bootstrapping is: 0.199 points\n",
            "The standard error of the median of  Israel , calculated using bootstrapping is: 0.162 points\n"
          ]
        }
      ]
    },
    {
      "cell_type": "markdown",
      "metadata": {
        "id": "opg-cxkHDJt4"
      },
      "source": [
        "## 3. Testing for statistical significance in ratings across countries"
      ]
    },
    {
      "cell_type": "markdown",
      "metadata": {
        "id": "1YxtVURcDJt5"
      },
      "source": [
        "We want to compare the median ratings of wines from different countries. As our test statistic (MOE), we will use the difference in median ratings between a pair of countries. "
      ]
    },
    {
      "cell_type": "markdown",
      "metadata": {
        "id": "MGwNVl8ADJt5"
      },
      "source": [
        "### 3.1 What should be our null hypothesis (H0) when testing for differences in medians across countries?"
      ]
    },
    {
      "cell_type": "markdown",
      "source": [
        "The $H_0$ is that there is no difference between the medians across countries. \n",
        "\n",
        "In other words: **the difference between the medians of 2 groups is zero**."
      ],
      "metadata": {
        "id": "u3_JFbp1vqLL"
      }
    },
    {
      "cell_type": "markdown",
      "metadata": {
        "id": "XQvZshGmDJt5"
      },
      "source": [
        "### 3.2 For each pair of countries, compute the observed test statistic. "
      ]
    },
    {
      "cell_type": "code",
      "source": [
        "# Test statistic is the different between the medians:\n",
        "\n",
        "# 1. All possible pairs Using combinations():\n",
        "from itertools import combinations\n",
        "\n",
        "countries = [\"Cyprus\",\"India\",\"Chile\",\"Israel\"] \n",
        "countries_pairs = list(combinations(countries, 2))\n",
        "print(countries_pairs)"
      ],
      "metadata": {
        "colab": {
          "base_uri": "https://localhost:8080/"
        },
        "id": "x2n1zZwejEbV",
        "outputId": "08816d15-4ee4-421e-aaae-3d16066e4a28"
      },
      "execution_count": null,
      "outputs": [
        {
          "output_type": "stream",
          "name": "stdout",
          "text": [
            "[('Cyprus', 'India'), ('Cyprus', 'Chile'), ('Cyprus', 'Israel'), ('India', 'Chile'), ('India', 'Israel'), ('Chile', 'Israel')]\n"
          ]
        }
      ]
    },
    {
      "cell_type": "code",
      "source": [
        "# 2. Empty df to fill with test statistic\n",
        "df_test_stat = pd.DataFrame(columns = [\"Pair\",\"Test_stat\"])\n",
        "\n",
        "# 3. Fill the df with values:\n",
        "for pair in countries_pairs:\n",
        "  med1 = desc['50%'].loc[pair[0]] #median of country 1\n",
        "  med2 = desc['50%'].loc[pair[1]] #median of country 2\n",
        "  test_stat = med1-med2 # difference is the test statistic\n",
        "  new_row = {'Pair':pair, 'Test_stat':test_stat}\n",
        "  #append row to the dataframe:\n",
        "  df_test_stat = df_test_stat.append(new_row, ignore_index=True)\n",
        "df_test_stat = df_test_stat.set_index(\"Pair\") # set the pair column to be index\n",
        "df_test_stat"
      ],
      "metadata": {
        "colab": {
          "base_uri": "https://localhost:8080/",
          "height": 268
        },
        "id": "-S3R1YCh2ulo",
        "outputId": "854217f3-5985-4378-be32-013c8fcb43a9"
      },
      "execution_count": null,
      "outputs": [
        {
          "output_type": "execute_result",
          "data": {
            "text/plain": [
              "                  Test_stat\n",
              "Pair                       \n",
              "(Cyprus, India)        -3.0\n",
              "(Cyprus, Chile)         1.0\n",
              "(Cyprus, Israel)       -2.0\n",
              "(India, Chile)          4.0\n",
              "(India, Israel)         1.0\n",
              "(Chile, Israel)        -3.0"
            ],
            "text/html": [
              "\n",
              "  <div id=\"df-ed6af1b3-0fc1-4fef-b3c7-2f05174b9e00\">\n",
              "    <div class=\"colab-df-container\">\n",
              "      <div>\n",
              "<style scoped>\n",
              "    .dataframe tbody tr th:only-of-type {\n",
              "        vertical-align: middle;\n",
              "    }\n",
              "\n",
              "    .dataframe tbody tr th {\n",
              "        vertical-align: top;\n",
              "    }\n",
              "\n",
              "    .dataframe thead th {\n",
              "        text-align: right;\n",
              "    }\n",
              "</style>\n",
              "<table border=\"1\" class=\"dataframe\">\n",
              "  <thead>\n",
              "    <tr style=\"text-align: right;\">\n",
              "      <th></th>\n",
              "      <th>Test_stat</th>\n",
              "    </tr>\n",
              "    <tr>\n",
              "      <th>Pair</th>\n",
              "      <th></th>\n",
              "    </tr>\n",
              "  </thead>\n",
              "  <tbody>\n",
              "    <tr>\n",
              "      <th>(Cyprus, India)</th>\n",
              "      <td>-3.0</td>\n",
              "    </tr>\n",
              "    <tr>\n",
              "      <th>(Cyprus, Chile)</th>\n",
              "      <td>1.0</td>\n",
              "    </tr>\n",
              "    <tr>\n",
              "      <th>(Cyprus, Israel)</th>\n",
              "      <td>-2.0</td>\n",
              "    </tr>\n",
              "    <tr>\n",
              "      <th>(India, Chile)</th>\n",
              "      <td>4.0</td>\n",
              "    </tr>\n",
              "    <tr>\n",
              "      <th>(India, Israel)</th>\n",
              "      <td>1.0</td>\n",
              "    </tr>\n",
              "    <tr>\n",
              "      <th>(Chile, Israel)</th>\n",
              "      <td>-3.0</td>\n",
              "    </tr>\n",
              "  </tbody>\n",
              "</table>\n",
              "</div>\n",
              "      <button class=\"colab-df-convert\" onclick=\"convertToInteractive('df-ed6af1b3-0fc1-4fef-b3c7-2f05174b9e00')\"\n",
              "              title=\"Convert this dataframe to an interactive table.\"\n",
              "              style=\"display:none;\">\n",
              "        \n",
              "  <svg xmlns=\"http://www.w3.org/2000/svg\" height=\"24px\"viewBox=\"0 0 24 24\"\n",
              "       width=\"24px\">\n",
              "    <path d=\"M0 0h24v24H0V0z\" fill=\"none\"/>\n",
              "    <path d=\"M18.56 5.44l.94 2.06.94-2.06 2.06-.94-2.06-.94-.94-2.06-.94 2.06-2.06.94zm-11 1L8.5 8.5l.94-2.06 2.06-.94-2.06-.94L8.5 2.5l-.94 2.06-2.06.94zm10 10l.94 2.06.94-2.06 2.06-.94-2.06-.94-.94-2.06-.94 2.06-2.06.94z\"/><path d=\"M17.41 7.96l-1.37-1.37c-.4-.4-.92-.59-1.43-.59-.52 0-1.04.2-1.43.59L10.3 9.45l-7.72 7.72c-.78.78-.78 2.05 0 2.83L4 21.41c.39.39.9.59 1.41.59.51 0 1.02-.2 1.41-.59l7.78-7.78 2.81-2.81c.8-.78.8-2.07 0-2.86zM5.41 20L4 18.59l7.72-7.72 1.47 1.35L5.41 20z\"/>\n",
              "  </svg>\n",
              "      </button>\n",
              "      \n",
              "  <style>\n",
              "    .colab-df-container {\n",
              "      display:flex;\n",
              "      flex-wrap:wrap;\n",
              "      gap: 12px;\n",
              "    }\n",
              "\n",
              "    .colab-df-convert {\n",
              "      background-color: #E8F0FE;\n",
              "      border: none;\n",
              "      border-radius: 50%;\n",
              "      cursor: pointer;\n",
              "      display: none;\n",
              "      fill: #1967D2;\n",
              "      height: 32px;\n",
              "      padding: 0 0 0 0;\n",
              "      width: 32px;\n",
              "    }\n",
              "\n",
              "    .colab-df-convert:hover {\n",
              "      background-color: #E2EBFA;\n",
              "      box-shadow: 0px 1px 2px rgba(60, 64, 67, 0.3), 0px 1px 3px 1px rgba(60, 64, 67, 0.15);\n",
              "      fill: #174EA6;\n",
              "    }\n",
              "\n",
              "    [theme=dark] .colab-df-convert {\n",
              "      background-color: #3B4455;\n",
              "      fill: #D2E3FC;\n",
              "    }\n",
              "\n",
              "    [theme=dark] .colab-df-convert:hover {\n",
              "      background-color: #434B5C;\n",
              "      box-shadow: 0px 1px 3px 1px rgba(0, 0, 0, 0.15);\n",
              "      filter: drop-shadow(0px 1px 2px rgba(0, 0, 0, 0.3));\n",
              "      fill: #FFFFFF;\n",
              "    }\n",
              "  </style>\n",
              "\n",
              "      <script>\n",
              "        const buttonEl =\n",
              "          document.querySelector('#df-ed6af1b3-0fc1-4fef-b3c7-2f05174b9e00 button.colab-df-convert');\n",
              "        buttonEl.style.display =\n",
              "          google.colab.kernel.accessAllowed ? 'block' : 'none';\n",
              "\n",
              "        async function convertToInteractive(key) {\n",
              "          const element = document.querySelector('#df-ed6af1b3-0fc1-4fef-b3c7-2f05174b9e00');\n",
              "          const dataTable =\n",
              "            await google.colab.kernel.invokeFunction('convertToInteractive',\n",
              "                                                     [key], {});\n",
              "          if (!dataTable) return;\n",
              "\n",
              "          const docLinkHtml = 'Like what you see? Visit the ' +\n",
              "            '<a target=\"_blank\" href=https://colab.research.google.com/notebooks/data_table.ipynb>data table notebook</a>'\n",
              "            + ' to learn more about interactive tables.';\n",
              "          element.innerHTML = '';\n",
              "          dataTable['output_type'] = 'display_data';\n",
              "          await google.colab.output.renderOutput(dataTable, element);\n",
              "          const docLink = document.createElement('div');\n",
              "          docLink.innerHTML = docLinkHtml;\n",
              "          element.appendChild(docLink);\n",
              "        }\n",
              "      </script>\n",
              "    </div>\n",
              "  </div>\n",
              "  "
            ]
          },
          "metadata": {},
          "execution_count": 13
        }
      ]
    },
    {
      "cell_type": "markdown",
      "metadata": {
        "id": "m1s3w5SgDJt6"
      },
      "source": [
        "### 3.3 For each pair of countries, use a permutation test with 1000 permutations to compute a p-value. "
      ]
    },
    {
      "cell_type": "code",
      "source": [
        "# function for permutation test :\n",
        "\n",
        "\n",
        "def permutation(\n",
        "                df1,\n",
        "                df2,\n",
        "                MOE,\n",
        "                var = 'points',\n",
        "                runs = 1000\n",
        "                ):\n",
        "\n",
        "    \"\"\" perform a permutation test on the given dataframes \"\"\"\n",
        "\n",
        "    # Pool variables into a single distribution :\n",
        "\n",
        "    pooled = np.concatenate(\n",
        "                            (\n",
        "                            df1[ var ].values,\n",
        "                            df2[ var ].values\n",
        "                            )\n",
        "                            )\n",
        "\n",
        "\n",
        "    # Construct a simulated sampling distribution :\n",
        "\n",
        "    sample_size_1 = len( df1 )\n",
        "    sample_size_2 = len( df2 )\n",
        "\n",
        "\n",
        "    diffs = np.zeros( runs )\n",
        "\n",
        "    for i in range(runs):\n",
        "\n",
        "        np.random.shuffle( pooled )\n",
        "        sample_1 = pooled[ : sample_size_1 ]\n",
        "        sample_2 = pooled[ -sample_size_2 : ]\n",
        "        diffs[ i ] = np.abs( np.median(sample_1) - np.median(sample_2) )\n",
        "    \n",
        "\n",
        "\n",
        "    # compute our p-value :\n",
        "\n",
        "    larger = np.where( diffs >= MOE, 1, 0)\n",
        "\n",
        "    p_val = np.sum( larger ) / runs\n",
        "\n",
        "    return p_val"
      ],
      "metadata": {
        "id": "KsVFNL70FQj4"
      },
      "execution_count": null,
      "outputs": []
    },
    {
      "cell_type": "code",
      "source": [
        "# Convert string to df with dictionary\n",
        "convert_dict = {\"Cyprus\":Cyprus,\"India\":India,\"Chile\":Chile,\"Israel\":Israel}"
      ],
      "metadata": {
        "id": "z-tRHQx1Jq3h"
      },
      "execution_count": null,
      "outputs": []
    },
    {
      "cell_type": "code",
      "source": [
        "for i in countries_pairs:\n",
        "    points1 = convert_dict[i[0]] # values of points country 1\n",
        "    points2 = convert_dict[i[1]] # values of points country 2\n",
        "    # absulute median:\n",
        "    val1 = convert_dict[i[0]][\"points\"] # values of points country 1\n",
        "    val2 = convert_dict[i[1]][\"points\"] # values of points country 2\n",
        "    stat_diff = np.abs(val1.median()-val2.median()) # median difference between the countries\n",
        "    MOE = stat_diff\n",
        "    pv = permutation( df1 = points1, \n",
        "                               df2 = points2,  \n",
        "                               MOE = MOE\n",
        "                             )\n",
        "    print(f\"P value of {i} is {pv}\" )"
      ],
      "metadata": {
        "colab": {
          "base_uri": "https://localhost:8080/"
        },
        "id": "yKMnjnZwFRZO",
        "outputId": "b5badc06-1930-43c8-be23-f7c434abf2ce"
      },
      "execution_count": null,
      "outputs": [
        {
          "output_type": "stream",
          "name": "stdout",
          "text": [
            "P value of ('Cyprus', 'India') is 0.055\n",
            "P value of ('Cyprus', 'Chile') is 0.591\n",
            "P value of ('Cyprus', 'Israel') is 0.143\n",
            "P value of ('India', 'Chile') is 0.004\n",
            "P value of ('India', 'Israel') is 0.689\n",
            "P value of ('Chile', 'Israel') is 0.0\n"
          ]
        }
      ]
    },
    {
      "cell_type": "markdown",
      "metadata": {
        "id": "t3yyM87nDJt6"
      },
      "source": [
        "### 3.4 Are the p-values you computed one-sided or two sided?  \n",
        "If your answer is one-sided, how would you change you computation to obtain two-sided p-values?   \n",
        "If your answer is two-sided, how would you change you computation to obtain one-sided p-values? "
      ]
    },
    {
      "cell_type": "markdown",
      "source": [
        "###My answer is 2 sided. In order to calculate 1 side i has to calculate the **non absolute value of the median difference**."
      ],
      "metadata": {
        "id": "heZvsIfm3EAm"
      }
    },
    {
      "cell_type": "markdown",
      "metadata": {
        "id": "N6eWFEuDDJt6"
      },
      "source": [
        "### 3.5 How do you interpret the p-value you got for the compariosn chile-Israel and for the comparion India-Cyprus?"
      ]
    },
    {
      "cell_type": "markdown",
      "source": [
        "###My p-value for Israel-Chile is 0.\n",
        "My interpertation is that I must reject the null hypothesis, and that the median score of Israel is significantly larger than the median score of Chile.\n",
        " chile's dataframe is about 9 times larger, and that might be the reason to the p-value we got.\n",
        "\n",
        "The question we need to ask is if the MOE we got is interesting, or it's too small (difference of 3 points - Chile-86, Israel-89).\n",
        "\n",
        "By looking at the plot we see Chile's distribution is larger than Israel's distribution, and Chile's highest-rated wines have higher rating than Israel's highest-rated wines, but Chile also have much more low-rated wines than Israel.\n",
        "\n",
        "Maybe the difference in medians is not the best estimate for the question 'whether some countries make better wines', and we should also take in count the distributions of the countries, or to compare between the best wines of each country, or maybe to add the 'price' variable to the comparison.\n",
        "\n",
        "###My p-value for India - Cyprus is 0.055.\n",
        "\n",
        " so if I choose a thershold of 95%, I can say that the Null Hypothesis explains the differences, the medians are the same and the differences observed could have happend by chance."
      ],
      "metadata": {
        "id": "73UnmqXCJ_TQ"
      }
    },
    {
      "cell_type": "markdown",
      "metadata": {
        "id": "8ID0yPEKDJt7"
      },
      "source": [
        "### 3.6 These two p-values should be quite different from each other (if they aren't, double-check your previous answers). Why might they be so different?"
      ]
    },
    {
      "cell_type": "markdown",
      "source": [
        "As i showed before there is big different in the sample size. The sample size of Chile is very large, around 4000 points, while the sample size of India and Cyprus are both around 10 points. With small sample sizes, one can get larger p-values."
      ],
      "metadata": {
        "id": "hpHIAX4fLMFr"
      }
    }
  ],
  "metadata": {
    "kernelspec": {
      "display_name": "Python 3",
      "language": "python",
      "name": "python3"
    },
    "language_info": {
      "codemirror_mode": {
        "name": "ipython",
        "version": 3
      },
      "file_extension": ".py",
      "mimetype": "text/x-python",
      "name": "python",
      "nbconvert_exporter": "python",
      "pygments_lexer": "ipython3",
      "version": "3.7.6"
    },
    "colab": {
      "name": "4_Bootstraping&Permutation.ipynb",
      "provenance": [],
      "collapsed_sections": [
        "naQvQkkJDJtl",
        "AcEQ8NTWDJtn",
        "FC4ziYd8DJtt",
        "bPjmEqXEDJtw"
      ],
      "include_colab_link": true
    }
  },
  "nbformat": 4,
  "nbformat_minor": 0
}
