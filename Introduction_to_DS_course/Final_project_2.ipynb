{
  "cells": [
    {
      "cell_type": "markdown",
      "metadata": {
        "id": "view-in-github",
        "colab_type": "text"
      },
      "source": [
        "<a href=\"https://colab.research.google.com/github/yehuda-yu/Data_Science_Projects/blob/main/Final_project_2.ipynb\" target=\"_parent\"><img src=\"https://colab.research.google.com/assets/colab-badge.svg\" alt=\"Open In Colab\"/></a>"
      ]
    },
    {
      "cell_type": "markdown",
      "metadata": {
        "id": "eoBjYCRDwoBX"
      },
      "source": [
        "# what are the main differences between good players to bad players?\n",
        "\n",
        "Here we want to compare between players that have high rating (85+) to players that have low rating (<=70) and check in whitch parameters we can see the differences.\n",
        "\n",
        "\n",
        "####Do high-rating players have characteristics that differentiate them from low-rating players?\n",
        "For example, is there a specific skill that affects the difference? Does the fact that a player is right or left matter? Are players with a higher score also working harder or is it a talent that is not significantly dependent on hard work?\n",
        "We will try to answer these questions and find other interesting patterns.\n",
        "\n",
        "####How do we do that?\n",
        "\n",
        "We will create a separate Data Frame for the two groups and perform a T test for each column (character) and thus test whether there is a statistical difference. At the moment we will focus only on those **who have a statistical significance level of 95%**. \n",
        "\n",
        "Since we have 41 column, the false positive eror now have probability of $p = 0.05*41$. in order to reduce the eror we will use $\\alpha$ 0f $0.05/41$,\n",
        "whitch means **significance level of 99.87%**."
      ]
    },
    {
      "cell_type": "code",
      "execution_count": null,
      "metadata": {
        "colab": {
          "base_uri": "https://localhost:8080/"
        },
        "id": "ALAa93D5zCLw",
        "outputId": "87d2f8d5-b862-40f7-ce27-94b6cfbaefe7"
      },
      "outputs": [
        {
          "output_type": "stream",
          "name": "stdout",
          "text": [
            "We have  85  players with high rating which is  0.483 % of all players\n",
            "We have  12958  players with low rating which is  73 % of all players\n"
          ]
        }
      ],
      "source": [
        "df_high = df_fifa[df_fifa['Rating']>=85]\n",
        "df_low = df_fifa[df_fifa['Rating']<=70]\n",
        "print(\"We have \",len(df_high),\" players with high rating which is \",round(100*(len(df_high)/len(df_fifa)),3),\"% of all players\")\n",
        "print(\"We have \",len(df_low),\" players with low rating which is \",int(100*(len(df_low)/len(df_fifa))),\"% of all players\")"
      ]
    },
    {
      "cell_type": "code",
      "execution_count": null,
      "metadata": {
        "id": "kTHqkLKrK7cH"
      },
      "outputs": [],
      "source": [
        "# choose the columns with numeric values to perform t test:\n",
        "df_high = df_high.select_dtypes(\"int\")\n",
        "df_low = df_low.select_dtypes(\"int\")"
      ]
    },
    {
      "cell_type": "code",
      "execution_count": null,
      "metadata": {
        "colab": {
          "base_uri": "https://localhost:8080/",
          "height": 1000
        },
        "id": "0XmsgK8T1pIQ",
        "outputId": "2b765a28-72b9-4c0d-9d62-cde0778cd5c7"
      },
      "outputs": [
        {
          "output_type": "execute_result",
          "data": {
            "text/plain": [
              "                          P_value Significant_95% Significant_99.87%\n",
              "Parameter                                                           \n",
              "Height               1.532263e-01              No                 No\n",
              "Weight               2.129638e-04             Yes                Yes\n",
              "Age                  4.796092e-15             Yes                Yes\n",
              "Work_Rate            7.968191e-12             Yes                Yes\n",
              "Weak_foot            3.576991e-15             Yes                Yes\n",
              "Skill_Moves          1.532860e-29             Yes                Yes\n",
              "Ball_Control         3.652425e-34             Yes                Yes\n",
              "Dribbling            1.116988e-23             Yes                Yes\n",
              "Marking              2.477803e-02             Yes                 No\n",
              "Sliding_Tackle       1.393630e-03             Yes                 No\n",
              "Standing_Tackle      2.825162e-04             Yes                Yes\n",
              "Aggression           2.081681e-09             Yes                Yes\n",
              "Reactions           5.225457e-213             Yes                Yes\n",
              "Attacking_Position   1.794270e-24             Yes                Yes\n",
              "Interceptions        1.614214e-08             Yes                Yes\n",
              "Vision               7.697154e-67             Yes                Yes\n",
              "Composure            1.459851e-98             Yes                Yes\n",
              "Crossing             1.232682e-23             Yes                Yes\n",
              "Short_Pass           2.490029e-40             Yes                Yes\n",
              "Long_Pass            2.090255e-39             Yes                Yes\n",
              "Acceleration         6.134759e-10             Yes                Yes\n",
              "Speed                2.565243e-10             Yes                Yes\n",
              "Stamina              2.837575e-12             Yes                Yes\n",
              "Strength             1.634409e-10             Yes                Yes\n",
              "Balance              1.426403e-04             Yes                Yes\n",
              "Agility              2.024046e-17             Yes                Yes\n",
              "Jumping              4.152876e-12             Yes                Yes\n",
              "Heading              4.443936e-12             Yes                Yes\n",
              "Shot_Power           9.574391e-27             Yes                Yes\n",
              "Finishing            1.837972e-25             Yes                Yes\n",
              "Long_Shots           2.393658e-29             Yes                Yes\n",
              "Curve                5.826138e-35             Yes                Yes\n",
              "Freekick_Accuracy    6.531514e-37             Yes                Yes\n",
              "Penalties            1.388077e-31             Yes                Yes\n",
              "Volleys              4.803074e-41             Yes                Yes\n",
              "GK_Positioning       1.825979e-01              No                 No\n",
              "GK_Diving            2.073350e-01              No                 No\n",
              "GK_Kicking           3.539486e-01              No                 No\n",
              "GK_Handling          7.500555e-02              No                 No\n",
              "GK_Reflexes          1.534837e-01              No                 No"
            ],
            "text/html": [
              "\n",
              "  <div id=\"df-548174ae-e663-4443-91a4-cad193ee3a1c\">\n",
              "    <div class=\"colab-df-container\">\n",
              "      <div>\n",
              "<style scoped>\n",
              "    .dataframe tbody tr th:only-of-type {\n",
              "        vertical-align: middle;\n",
              "    }\n",
              "\n",
              "    .dataframe tbody tr th {\n",
              "        vertical-align: top;\n",
              "    }\n",
              "\n",
              "    .dataframe thead th {\n",
              "        text-align: right;\n",
              "    }\n",
              "</style>\n",
              "<table border=\"1\" class=\"dataframe\">\n",
              "  <thead>\n",
              "    <tr style=\"text-align: right;\">\n",
              "      <th></th>\n",
              "      <th>P_value</th>\n",
              "      <th>Significant_95%</th>\n",
              "      <th>Significant_99.87%</th>\n",
              "    </tr>\n",
              "    <tr>\n",
              "      <th>Parameter</th>\n",
              "      <th></th>\n",
              "      <th></th>\n",
              "      <th></th>\n",
              "    </tr>\n",
              "  </thead>\n",
              "  <tbody>\n",
              "    <tr>\n",
              "      <th>Height</th>\n",
              "      <td>1.532263e-01</td>\n",
              "      <td>No</td>\n",
              "      <td>No</td>\n",
              "    </tr>\n",
              "    <tr>\n",
              "      <th>Weight</th>\n",
              "      <td>2.129638e-04</td>\n",
              "      <td>Yes</td>\n",
              "      <td>Yes</td>\n",
              "    </tr>\n",
              "    <tr>\n",
              "      <th>Age</th>\n",
              "      <td>4.796092e-15</td>\n",
              "      <td>Yes</td>\n",
              "      <td>Yes</td>\n",
              "    </tr>\n",
              "    <tr>\n",
              "      <th>Work_Rate</th>\n",
              "      <td>7.968191e-12</td>\n",
              "      <td>Yes</td>\n",
              "      <td>Yes</td>\n",
              "    </tr>\n",
              "    <tr>\n",
              "      <th>Weak_foot</th>\n",
              "      <td>3.576991e-15</td>\n",
              "      <td>Yes</td>\n",
              "      <td>Yes</td>\n",
              "    </tr>\n",
              "    <tr>\n",
              "      <th>Skill_Moves</th>\n",
              "      <td>1.532860e-29</td>\n",
              "      <td>Yes</td>\n",
              "      <td>Yes</td>\n",
              "    </tr>\n",
              "    <tr>\n",
              "      <th>Ball_Control</th>\n",
              "      <td>3.652425e-34</td>\n",
              "      <td>Yes</td>\n",
              "      <td>Yes</td>\n",
              "    </tr>\n",
              "    <tr>\n",
              "      <th>Dribbling</th>\n",
              "      <td>1.116988e-23</td>\n",
              "      <td>Yes</td>\n",
              "      <td>Yes</td>\n",
              "    </tr>\n",
              "    <tr>\n",
              "      <th>Marking</th>\n",
              "      <td>2.477803e-02</td>\n",
              "      <td>Yes</td>\n",
              "      <td>No</td>\n",
              "    </tr>\n",
              "    <tr>\n",
              "      <th>Sliding_Tackle</th>\n",
              "      <td>1.393630e-03</td>\n",
              "      <td>Yes</td>\n",
              "      <td>No</td>\n",
              "    </tr>\n",
              "    <tr>\n",
              "      <th>Standing_Tackle</th>\n",
              "      <td>2.825162e-04</td>\n",
              "      <td>Yes</td>\n",
              "      <td>Yes</td>\n",
              "    </tr>\n",
              "    <tr>\n",
              "      <th>Aggression</th>\n",
              "      <td>2.081681e-09</td>\n",
              "      <td>Yes</td>\n",
              "      <td>Yes</td>\n",
              "    </tr>\n",
              "    <tr>\n",
              "      <th>Reactions</th>\n",
              "      <td>5.225457e-213</td>\n",
              "      <td>Yes</td>\n",
              "      <td>Yes</td>\n",
              "    </tr>\n",
              "    <tr>\n",
              "      <th>Attacking_Position</th>\n",
              "      <td>1.794270e-24</td>\n",
              "      <td>Yes</td>\n",
              "      <td>Yes</td>\n",
              "    </tr>\n",
              "    <tr>\n",
              "      <th>Interceptions</th>\n",
              "      <td>1.614214e-08</td>\n",
              "      <td>Yes</td>\n",
              "      <td>Yes</td>\n",
              "    </tr>\n",
              "    <tr>\n",
              "      <th>Vision</th>\n",
              "      <td>7.697154e-67</td>\n",
              "      <td>Yes</td>\n",
              "      <td>Yes</td>\n",
              "    </tr>\n",
              "    <tr>\n",
              "      <th>Composure</th>\n",
              "      <td>1.459851e-98</td>\n",
              "      <td>Yes</td>\n",
              "      <td>Yes</td>\n",
              "    </tr>\n",
              "    <tr>\n",
              "      <th>Crossing</th>\n",
              "      <td>1.232682e-23</td>\n",
              "      <td>Yes</td>\n",
              "      <td>Yes</td>\n",
              "    </tr>\n",
              "    <tr>\n",
              "      <th>Short_Pass</th>\n",
              "      <td>2.490029e-40</td>\n",
              "      <td>Yes</td>\n",
              "      <td>Yes</td>\n",
              "    </tr>\n",
              "    <tr>\n",
              "      <th>Long_Pass</th>\n",
              "      <td>2.090255e-39</td>\n",
              "      <td>Yes</td>\n",
              "      <td>Yes</td>\n",
              "    </tr>\n",
              "    <tr>\n",
              "      <th>Acceleration</th>\n",
              "      <td>6.134759e-10</td>\n",
              "      <td>Yes</td>\n",
              "      <td>Yes</td>\n",
              "    </tr>\n",
              "    <tr>\n",
              "      <th>Speed</th>\n",
              "      <td>2.565243e-10</td>\n",
              "      <td>Yes</td>\n",
              "      <td>Yes</td>\n",
              "    </tr>\n",
              "    <tr>\n",
              "      <th>Stamina</th>\n",
              "      <td>2.837575e-12</td>\n",
              "      <td>Yes</td>\n",
              "      <td>Yes</td>\n",
              "    </tr>\n",
              "    <tr>\n",
              "      <th>Strength</th>\n",
              "      <td>1.634409e-10</td>\n",
              "      <td>Yes</td>\n",
              "      <td>Yes</td>\n",
              "    </tr>\n",
              "    <tr>\n",
              "      <th>Balance</th>\n",
              "      <td>1.426403e-04</td>\n",
              "      <td>Yes</td>\n",
              "      <td>Yes</td>\n",
              "    </tr>\n",
              "    <tr>\n",
              "      <th>Agility</th>\n",
              "      <td>2.024046e-17</td>\n",
              "      <td>Yes</td>\n",
              "      <td>Yes</td>\n",
              "    </tr>\n",
              "    <tr>\n",
              "      <th>Jumping</th>\n",
              "      <td>4.152876e-12</td>\n",
              "      <td>Yes</td>\n",
              "      <td>Yes</td>\n",
              "    </tr>\n",
              "    <tr>\n",
              "      <th>Heading</th>\n",
              "      <td>4.443936e-12</td>\n",
              "      <td>Yes</td>\n",
              "      <td>Yes</td>\n",
              "    </tr>\n",
              "    <tr>\n",
              "      <th>Shot_Power</th>\n",
              "      <td>9.574391e-27</td>\n",
              "      <td>Yes</td>\n",
              "      <td>Yes</td>\n",
              "    </tr>\n",
              "    <tr>\n",
              "      <th>Finishing</th>\n",
              "      <td>1.837972e-25</td>\n",
              "      <td>Yes</td>\n",
              "      <td>Yes</td>\n",
              "    </tr>\n",
              "    <tr>\n",
              "      <th>Long_Shots</th>\n",
              "      <td>2.393658e-29</td>\n",
              "      <td>Yes</td>\n",
              "      <td>Yes</td>\n",
              "    </tr>\n",
              "    <tr>\n",
              "      <th>Curve</th>\n",
              "      <td>5.826138e-35</td>\n",
              "      <td>Yes</td>\n",
              "      <td>Yes</td>\n",
              "    </tr>\n",
              "    <tr>\n",
              "      <th>Freekick_Accuracy</th>\n",
              "      <td>6.531514e-37</td>\n",
              "      <td>Yes</td>\n",
              "      <td>Yes</td>\n",
              "    </tr>\n",
              "    <tr>\n",
              "      <th>Penalties</th>\n",
              "      <td>1.388077e-31</td>\n",
              "      <td>Yes</td>\n",
              "      <td>Yes</td>\n",
              "    </tr>\n",
              "    <tr>\n",
              "      <th>Volleys</th>\n",
              "      <td>4.803074e-41</td>\n",
              "      <td>Yes</td>\n",
              "      <td>Yes</td>\n",
              "    </tr>\n",
              "    <tr>\n",
              "      <th>GK_Positioning</th>\n",
              "      <td>1.825979e-01</td>\n",
              "      <td>No</td>\n",
              "      <td>No</td>\n",
              "    </tr>\n",
              "    <tr>\n",
              "      <th>GK_Diving</th>\n",
              "      <td>2.073350e-01</td>\n",
              "      <td>No</td>\n",
              "      <td>No</td>\n",
              "    </tr>\n",
              "    <tr>\n",
              "      <th>GK_Kicking</th>\n",
              "      <td>3.539486e-01</td>\n",
              "      <td>No</td>\n",
              "      <td>No</td>\n",
              "    </tr>\n",
              "    <tr>\n",
              "      <th>GK_Handling</th>\n",
              "      <td>7.500555e-02</td>\n",
              "      <td>No</td>\n",
              "      <td>No</td>\n",
              "    </tr>\n",
              "    <tr>\n",
              "      <th>GK_Reflexes</th>\n",
              "      <td>1.534837e-01</td>\n",
              "      <td>No</td>\n",
              "      <td>No</td>\n",
              "    </tr>\n",
              "  </tbody>\n",
              "</table>\n",
              "</div>\n",
              "      <button class=\"colab-df-convert\" onclick=\"convertToInteractive('df-548174ae-e663-4443-91a4-cad193ee3a1c')\"\n",
              "              title=\"Convert this dataframe to an interactive table.\"\n",
              "              style=\"display:none;\">\n",
              "        \n",
              "  <svg xmlns=\"http://www.w3.org/2000/svg\" height=\"24px\"viewBox=\"0 0 24 24\"\n",
              "       width=\"24px\">\n",
              "    <path d=\"M0 0h24v24H0V0z\" fill=\"none\"/>\n",
              "    <path d=\"M18.56 5.44l.94 2.06.94-2.06 2.06-.94-2.06-.94-.94-2.06-.94 2.06-2.06.94zm-11 1L8.5 8.5l.94-2.06 2.06-.94-2.06-.94L8.5 2.5l-.94 2.06-2.06.94zm10 10l.94 2.06.94-2.06 2.06-.94-2.06-.94-.94-2.06-.94 2.06-2.06.94z\"/><path d=\"M17.41 7.96l-1.37-1.37c-.4-.4-.92-.59-1.43-.59-.52 0-1.04.2-1.43.59L10.3 9.45l-7.72 7.72c-.78.78-.78 2.05 0 2.83L4 21.41c.39.39.9.59 1.41.59.51 0 1.02-.2 1.41-.59l7.78-7.78 2.81-2.81c.8-.78.8-2.07 0-2.86zM5.41 20L4 18.59l7.72-7.72 1.47 1.35L5.41 20z\"/>\n",
              "  </svg>\n",
              "      </button>\n",
              "      \n",
              "  <style>\n",
              "    .colab-df-container {\n",
              "      display:flex;\n",
              "      flex-wrap:wrap;\n",
              "      gap: 12px;\n",
              "    }\n",
              "\n",
              "    .colab-df-convert {\n",
              "      background-color: #E8F0FE;\n",
              "      border: none;\n",
              "      border-radius: 50%;\n",
              "      cursor: pointer;\n",
              "      display: none;\n",
              "      fill: #1967D2;\n",
              "      height: 32px;\n",
              "      padding: 0 0 0 0;\n",
              "      width: 32px;\n",
              "    }\n",
              "\n",
              "    .colab-df-convert:hover {\n",
              "      background-color: #E2EBFA;\n",
              "      box-shadow: 0px 1px 2px rgba(60, 64, 67, 0.3), 0px 1px 3px 1px rgba(60, 64, 67, 0.15);\n",
              "      fill: #174EA6;\n",
              "    }\n",
              "\n",
              "    [theme=dark] .colab-df-convert {\n",
              "      background-color: #3B4455;\n",
              "      fill: #D2E3FC;\n",
              "    }\n",
              "\n",
              "    [theme=dark] .colab-df-convert:hover {\n",
              "      background-color: #434B5C;\n",
              "      box-shadow: 0px 1px 3px 1px rgba(0, 0, 0, 0.15);\n",
              "      filter: drop-shadow(0px 1px 2px rgba(0, 0, 0, 0.3));\n",
              "      fill: #FFFFFF;\n",
              "    }\n",
              "  </style>\n",
              "\n",
              "      <script>\n",
              "        const buttonEl =\n",
              "          document.querySelector('#df-548174ae-e663-4443-91a4-cad193ee3a1c button.colab-df-convert');\n",
              "        buttonEl.style.display =\n",
              "          google.colab.kernel.accessAllowed ? 'block' : 'none';\n",
              "\n",
              "        async function convertToInteractive(key) {\n",
              "          const element = document.querySelector('#df-548174ae-e663-4443-91a4-cad193ee3a1c');\n",
              "          const dataTable =\n",
              "            await google.colab.kernel.invokeFunction('convertToInteractive',\n",
              "                                                     [key], {});\n",
              "          if (!dataTable) return;\n",
              "\n",
              "          const docLinkHtml = 'Like what you see? Visit the ' +\n",
              "            '<a target=\"_blank\" href=https://colab.research.google.com/notebooks/data_table.ipynb>data table notebook</a>'\n",
              "            + ' to learn more about interactive tables.';\n",
              "          element.innerHTML = '';\n",
              "          dataTable['output_type'] = 'display_data';\n",
              "          await google.colab.output.renderOutput(dataTable, element);\n",
              "          const docLink = document.createElement('div');\n",
              "          docLink.innerHTML = docLinkHtml;\n",
              "          element.appendChild(docLink);\n",
              "        }\n",
              "      </script>\n",
              "    </div>\n",
              "  </div>\n",
              "  "
            ]
          },
          "metadata": {},
          "execution_count": 82
        }
      ],
      "source": [
        "df_ttest = pd.DataFrame(columns = [\"Parameter\",\"P_value\",\"Significant_95%\",\"Significant_99.87%\" ]) # df for results\n",
        "\n",
        "for column in df_high.columns[1:]: #All the columns except the rating\n",
        "  # create 2 groups:\n",
        "  group_high = df_high[column]\n",
        "  group_low = df_low[column]\n",
        "  t,p = ttest_ind(group_high, group_low) #perform ttest between the groups\n",
        "  if p <= 0.05:\n",
        "    if p <= (0.05/41):\n",
        "      # create raw\n",
        "      new_row = {'Parameter':column, 'P_value':p,\"Significant_95%\": \"Yes\",\"Significant_99.87%\":\"Yes\"}\n",
        "    else:\n",
        "      # create raw\n",
        "      new_row = {'Parameter':column, 'P_value':p,\"Significant_95%\": \"Yes\",\"Significant_99.87%\":\"No\"}\n",
        "       \n",
        "    #append row to the dataframe:\n",
        "    df_ttest = df_ttest.append(new_row, ignore_index=True)\n",
        "    \n",
        "  else:\n",
        "    # create raw\n",
        "    new_row = {'Parameter':column, 'P_value':p,\"Significant_95%\": \"No\",\"Significant_99.87%\":\"No\"}\n",
        "    #append row to the dataframe:\n",
        "    df_ttest = df_ttest.append(new_row, ignore_index=True)\n",
        "df_ttest = df_ttest.set_index(\"Parameter\")\n",
        "df_ttest"
      ]
    },
    {
      "cell_type": "markdown",
      "metadata": {
        "id": "xcaSGRPgwzNC"
      },
      "source": [
        "### Conclusions:\n",
        "\n",
        "1. In significant level of 95% There is a **significant difference in almost every parameter** between the players with the high rating and the players with the low rating.\n",
        "The only parameters that are not significant are related to **abilities to be a goalkeeper**. Makes a lot of sense considering that 10 out of 11 should not develop such skills ... 🤔\n",
        "In addition, the height also not significantly different.\n",
        "\n",
        "2. In significant level of 99.87% we have 2 other parameters that are not significant:\n",
        "\n",
        "  *A. Marking*.\n",
        "\n",
        "  *B. Sliding_Tackle*\n",
        "\n",
        "3. **High-rating players are significantly older** than low-rating players (averages 28.6 and 24.6, respectively).\n",
        "\n",
        "4. Players with a higher overall rate are also significantly more hard workes! Not everything is talent probably ..."
      ]
    },
    {
      "cell_type": "markdown",
      "metadata": {
        "id": "XwOAQyt5bODT"
      },
      "source": [
        "## Position Classification - Random forest\n",
        "Now lets try to predict the position of the player based on his scores in the different categories.\n",
        "\n",
        "First, we will try a \"**Random forset classification**\". This model is very usefull for classification problems.\n",
        "The basic principles behind the model are that it tries to classify the data into different categories with **conditions and probability trees**. The model splits the data into several separate models and actually performs the classification in parallel in several separate \"trees\". In addition, the model randomly selects **different columns** (features) on which it practices and tries to get a correct result and leaves some of the data aside for validation.\n",
        "\n",
        " The advantages of this method are that compared to other models that use probability trees it is a model that has a **lower probability of reaching \"overfiting\"** but still has to pay attention to this issue (using a data set to be used for the test)."
      ]
    },
    {
      "cell_type": "markdown",
      "metadata": {
        "id": "FukngwJjdU4S"
      },
      "source": [
        "### Preprocessing\n",
        "\n",
        "1. Choose the relevant columns and create new DataFrame.\n",
        "2. Feature ingineering\n",
        "3. Split the data into Train, and Validation sets.\n",
        "4. Arraange the data to numpy arrays\n"
      ]
    },
    {
      "cell_type": "markdown",
      "metadata": {
        "id": "pA_xByAFgcSP"
      },
      "source": [
        "1. Choose the relevant columns and create new DataFrame:\n",
        "\n",
        "We will choose all the columns of the scores for the model to train (features), and the \"Club_Position\" column to be the label. \n",
        "\n",
        "❗ Notice that we could chose the \"Preffered_Position\" to be the label, and assume that there is more correlation to the position the player prefers than certain constraints that can cause him to play in a different position on the team. But we prefered the Club Position because its just 1 categorial option and will be more easy to train the model."
      ]
    },
    {
      "cell_type": "code",
      "execution_count": null,
      "metadata": {
        "id": "Fit3nrYuoG6p"
      },
      "outputs": [],
      "source": [
        "# import packegas\n",
        "from sklearn.model_selection import train_test_split\n",
        "from sklearn.tree import DecisionTreeClassifier\n",
        "from sklearn import tree\n",
        "import sklearn.metrics as metrics\n",
        "from sklearn.ensemble import RandomForestClassifier\n",
        "from sklearn.metrics import confusion_matrix\n",
        "from sklearn.model_selection import cross_val_score"
      ]
    },
    {
      "cell_type": "code",
      "execution_count": null,
      "metadata": {
        "colab": {
          "base_uri": "https://localhost:8080/"
        },
        "id": "b7kVQG0GnMYN",
        "outputId": "1c1f32b3-ad90-4a2f-eba7-647c4950f9d2"
      },
      "outputs": [
        {
          "output_type": "stream",
          "name": "stdout",
          "text": [
            "['LW' 'RW' 'ST' 'GK' 'CB' 'CM' 'CAM' 'LM' 'RB' 'RM' 'LB' 'CF' 'CDM' 'LWB'\n",
            " 'RWB']\n"
          ]
        },
        {
          "output_type": "stream",
          "name": "stderr",
          "text": [
            "/usr/local/lib/python3.7/dist-packages/ipykernel_launcher.py:5: SettingWithCopyWarning: \n",
            "A value is trying to be set on a copy of a slice from a DataFrame.\n",
            "Try using .loc[row_indexer,col_indexer] = value instead\n",
            "\n",
            "See the caveats in the documentation: https://pandas.pydata.org/pandas-docs/stable/user_guide/indexing.html#returning-a-view-versus-a-copy\n",
            "  \"\"\"\n",
            "/usr/local/lib/python3.7/dist-packages/ipykernel_launcher.py:6: SettingWithCopyWarning: \n",
            "A value is trying to be set on a copy of a slice from a DataFrame.\n",
            "Try using .loc[row_indexer,col_indexer] = value instead\n",
            "\n",
            "See the caveats in the documentation: https://pandas.pydata.org/pandas-docs/stable/user_guide/indexing.html#returning-a-view-versus-a-copy\n",
            "  \n",
            "/usr/local/lib/python3.7/dist-packages/ipykernel_launcher.py:8: SettingWithCopyWarning: \n",
            "A value is trying to be set on a copy of a slice from a DataFrame.\n",
            "Try using .loc[row_indexer,col_indexer] = value instead\n",
            "\n",
            "See the caveats in the documentation: https://pandas.pydata.org/pandas-docs/stable/user_guide/indexing.html#returning-a-view-versus-a-copy\n",
            "  \n"
          ]
        }
      ],
      "source": [
        "features = df_fifa[df_fifa.columns[18:53]] # All the classes with score\n",
        "\n",
        "# Feature ingineering:\n",
        "# 1. preefered foot as encode:\n",
        "features[\"Preffered_Foot\"] = df_fifa[\"Preffered_Foot\"].astype('category')\n",
        "features[\"Preffered_Foot\"] =features[\"Preffered_Foot\"].cat.codes\n",
        "# 2. drop columns that reduce the accuracy:\n",
        "features['Preferred_Position'] = df_fifa_processed2['Preferred_Position'] # add the label column just for drop nan from all\n",
        "# features = features[features.Club_Position!=\"Sub\"] # neglect the sub column who effect the results\n",
        "# features = features[features.Club_Position!=\"Res\"] # neglect the reseve column who effect the results\n",
        "\n",
        "# 3. Clear Nan:\n",
        "features = features.dropna()\n",
        "\n",
        "# define labels coluumn\n",
        "labels = features['Preferred_Position']\n",
        "features = features.loc[:, features.columns != 'Preferred_Position']  # delete the label column from features\n",
        "print(labels.unique()) # uncomment to see rhe df\n",
        "# print(features) # uncomment to see the df"
      ]
    },
    {
      "cell_type": "code",
      "source": [
        "len(features),len(labels)"
      ],
      "metadata": {
        "colab": {
          "base_uri": "https://localhost:8080/"
        },
        "id": "hZcIhohU_7SC",
        "outputId": "997812ff-584d-4065-9f24-9316264025d8"
      },
      "execution_count": null,
      "outputs": [
        {
          "output_type": "execute_result",
          "data": {
            "text/plain": [
              "(17587, 17587)"
            ]
          },
          "metadata": {},
          "execution_count": 85
        }
      ]
    },
    {
      "cell_type": "markdown",
      "metadata": {
        "id": "NP78v07TneoE"
      },
      "source": [
        "2. Split the data into Train and Validation sets.\n",
        "\n",
        "85% - Train\n",
        "\n",
        "15% - Validation"
      ]
    },
    {
      "cell_type": "code",
      "execution_count": null,
      "metadata": {
        "colab": {
          "base_uri": "https://localhost:8080/"
        },
        "id": "weR9YYPEnjU4",
        "outputId": "e5ba515e-b605-495f-a24f-cf8e4a1eaaaa"
      },
      "outputs": [
        {
          "output_type": "stream",
          "name": "stdout",
          "text": [
            "x train length:  14948 \n",
            " x val length:  2639\n"
          ]
        }
      ],
      "source": [
        "train_ratio = 0.85\n",
        "validation_ratio = 0.15\n",
        "\n",
        "# train is now 75% of the entire data set\n",
        "# the _junk suffix means that we drop that variable completely\n",
        "x_train, x_val, y_train, y_val = train_test_split(features,\n",
        "                                                    labels,\n",
        "                                                    test_size=1 - train_ratio)\n",
        " \n",
        "\n",
        "print(\"x train length: \",len(x_train),\"\\n\",\"x val length: \", len(x_val))"
      ]
    },
    {
      "cell_type": "markdown",
      "metadata": {
        "id": "vtOxYtCUeUS8"
      },
      "source": [
        "### Model and results\n",
        "1. define the model and the Hyperparameters\n",
        "2. Evaluate the model on the test set."
      ]
    },
    {
      "cell_type": "code",
      "execution_count": null,
      "metadata": {
        "colab": {
          "base_uri": "https://localhost:8080/"
        },
        "id": "aFWREd5TeZwC",
        "outputId": "4d79b196-71cc-46d9-b3fd-e3eb413f0846"
      },
      "outputs": [
        {
          "output_type": "stream",
          "name": "stdout",
          "text": [
            "Training: Accuracy: 1.0\n",
            "Validation: Accuracy: 0.7442212959454338\n"
          ]
        }
      ],
      "source": [
        "clf = RandomForestClassifier() # Set the arguments of the classifier\n",
        "# -------- train-----------------#\n",
        "clf.fit(x_train, y_train)\n",
        "\n",
        "y_train_pred = clf.predict(x_train)\n",
        "\n",
        "print(\"Training: Accuracy:\",metrics.accuracy_score(y_train, y_train_pred))\n",
        "\n",
        "# -------- validation-----------------#\n",
        "y_val_pred = clf.predict(x_val)\n",
        "\n",
        "print(\"Validation: Accuracy:\",metrics.accuracy_score(y_val, y_val_pred))\n"
      ]
    },
    {
      "cell_type": "markdown",
      "metadata": {
        "id": "tF-qW_awkCEM"
      },
      "source": [
        "Present the results with confusion matrix:"
      ]
    },
    {
      "cell_type": "code",
      "execution_count": null,
      "metadata": {
        "colab": {
          "base_uri": "https://localhost:8080/",
          "height": 515
        },
        "id": "9j5IjauYkBZY",
        "outputId": "08a59c2d-1138-41fc-9f21-2f29636ff734"
      },
      "outputs": [
        {
          "output_type": "execute_result",
          "data": {
            "text/plain": [
              "Text(0.5, 1.0, 'Confusion matrix - 0.744 accuracy')"
            ]
          },
          "metadata": {},
          "execution_count": 88
        },
        {
          "output_type": "display_data",
          "data": {
            "text/plain": [
              "<Figure size 720x504 with 2 Axes>"
            ],
            "image/png": "[encoded data removed]"
          },
          "metadata": {
            "needs_background": "light"
          }
        }
      ],
      "source": [
        "# labels to confiusion matrix:\n",
        "unique_label = np.unique([y_val, y_val_pred])\n",
        "\n",
        "# df of confiusion matrix:\n",
        "cmtx = pd.DataFrame(\n",
        "    confusion_matrix(y_val, y_val_pred, labels=unique_label), \n",
        "    index=[x for x in unique_label], \n",
        "    columns=[x for x in unique_label])\n",
        "plt.figure(figsize = (10,7))\n",
        "sns.heatmap(cmtx, annot=True, fmt='d',annot_kws={\"size\": 14})\n",
        "plt.xlabel('Predicted',fontsize = 20)\n",
        "plt.ylabel('Truth', fontsize = 20)\n",
        "plt.xticks(fontsize =15,rotation=90)\n",
        "plt.yticks(fontsize =15,rotation=0)\n",
        "plt.title(f'Confusion matrix - {round(metrics.accuracy_score(y_val, y_val_pred),3)} accuracy', fontsize = 20)\n",
        "# plt.savefig(\"/content/drive/MyDrive/gdrive_folder/Courses/Intro_Data_Science/Final_project_FIFA/Charts_presentation/\" + 'Confusion_matrix1.png',bbox_inches = \"tight\")"
      ]
    },
    {
      "cell_type": "markdown",
      "metadata": {
        "id": "hsqcdO5yqvD0"
      },
      "source": [
        "F1 score table:"
      ]
    },
    {
      "cell_type": "code",
      "execution_count": null,
      "metadata": {
        "colab": {
          "base_uri": "https://localhost:8080/",
          "height": 519
        },
        "id": "79y0klsdp5u6",
        "outputId": "3ab91984-4e9c-4826-b1c2-632fd5871065"
      },
      "outputs": [
        {
          "output_type": "execute_result",
          "data": {
            "text/plain": [
              "     F1_Score\n",
              "CAM  0.586895\n",
              "CB   0.893709\n",
              "CDM  0.633166\n",
              "CF   0.000000\n",
              "CM   0.708638\n",
              "GK   1.000000\n",
              "LB   0.840647\n",
              "LM   0.347490\n",
              "LW   0.037736\n",
              "LWB  0.000000\n",
              "RB   0.747826\n",
              "RM   0.262411\n",
              "RW   0.103448\n",
              "RWB  0.000000\n",
              "ST   0.873176"
            ],
            "text/html": [
              "\n",
              "  <div id=\"df-71895b4b-a7a3-4d2f-80bb-b7a2c95f5ee1\">\n",
              "    <div class=\"colab-df-container\">\n",
              "      <div>\n",
              "<style scoped>\n",
              "    .dataframe tbody tr th:only-of-type {\n",
              "        vertical-align: middle;\n",
              "    }\n",
              "\n",
              "    .dataframe tbody tr th {\n",
              "        vertical-align: top;\n",
              "    }\n",
              "\n",
              "    .dataframe thead th {\n",
              "        text-align: right;\n",
              "    }\n",
              "</style>\n",
              "<table border=\"1\" class=\"dataframe\">\n",
              "  <thead>\n",
              "    <tr style=\"text-align: right;\">\n",
              "      <th></th>\n",
              "      <th>F1_Score</th>\n",
              "    </tr>\n",
              "  </thead>\n",
              "  <tbody>\n",
              "    <tr>\n",
              "      <th>CAM</th>\n",
              "      <td>0.586895</td>\n",
              "    </tr>\n",
              "    <tr>\n",
              "      <th>CB</th>\n",
              "      <td>0.893709</td>\n",
              "    </tr>\n",
              "    <tr>\n",
              "      <th>CDM</th>\n",
              "      <td>0.633166</td>\n",
              "    </tr>\n",
              "    <tr>\n",
              "      <th>CF</th>\n",
              "      <td>0.000000</td>\n",
              "    </tr>\n",
              "    <tr>\n",
              "      <th>CM</th>\n",
              "      <td>0.708638</td>\n",
              "    </tr>\n",
              "    <tr>\n",
              "      <th>GK</th>\n",
              "      <td>1.000000</td>\n",
              "    </tr>\n",
              "    <tr>\n",
              "      <th>LB</th>\n",
              "      <td>0.840647</td>\n",
              "    </tr>\n",
              "    <tr>\n",
              "      <th>LM</th>\n",
              "      <td>0.347490</td>\n",
              "    </tr>\n",
              "    <tr>\n",
              "      <th>LW</th>\n",
              "      <td>0.037736</td>\n",
              "    </tr>\n",
              "    <tr>\n",
              "      <th>LWB</th>\n",
              "      <td>0.000000</td>\n",
              "    </tr>\n",
              "    <tr>\n",
              "      <th>RB</th>\n",
              "      <td>0.747826</td>\n",
              "    </tr>\n",
              "    <tr>\n",
              "      <th>RM</th>\n",
              "      <td>0.262411</td>\n",
              "    </tr>\n",
              "    <tr>\n",
              "      <th>RW</th>\n",
              "      <td>0.103448</td>\n",
              "    </tr>\n",
              "    <tr>\n",
              "      <th>RWB</th>\n",
              "      <td>0.000000</td>\n",
              "    </tr>\n",
              "    <tr>\n",
              "      <th>ST</th>\n",
              "      <td>0.873176</td>\n",
              "    </tr>\n",
              "  </tbody>\n",
              "</table>\n",
              "</div>\n",
              "      <button class=\"colab-df-convert\" onclick=\"convertToInteractive('df-71895b4b-a7a3-4d2f-80bb-b7a2c95f5ee1')\"\n",
              "              title=\"Convert this dataframe to an interactive table.\"\n",
              "              style=\"display:none;\">\n",
              "        \n",
              "  <svg xmlns=\"http://www.w3.org/2000/svg\" height=\"24px\"viewBox=\"0 0 24 24\"\n",
              "       width=\"24px\">\n",
              "    <path d=\"M0 0h24v24H0V0z\" fill=\"none\"/>\n",
              "    <path d=\"M18.56 5.44l.94 2.06.94-2.06 2.06-.94-2.06-.94-.94-2.06-.94 2.06-2.06.94zm-11 1L8.5 8.5l.94-2.06 2.06-.94-2.06-.94L8.5 2.5l-.94 2.06-2.06.94zm10 10l.94 2.06.94-2.06 2.06-.94-2.06-.94-.94-2.06-.94 2.06-2.06.94z\"/><path d=\"M17.41 7.96l-1.37-1.37c-.4-.4-.92-.59-1.43-.59-.52 0-1.04.2-1.43.59L10.3 9.45l-7.72 7.72c-.78.78-.78 2.05 0 2.83L4 21.41c.39.39.9.59 1.41.59.51 0 1.02-.2 1.41-.59l7.78-7.78 2.81-2.81c.8-.78.8-2.07 0-2.86zM5.41 20L4 18.59l7.72-7.72 1.47 1.35L5.41 20z\"/>\n",
              "  </svg>\n",
              "      </button>\n",
              "      \n",
              "  <style>\n",
              "    .colab-df-container {\n",
              "      display:flex;\n",
              "      flex-wrap:wrap;\n",
              "      gap: 12px;\n",
              "    }\n",
              "\n",
              "    .colab-df-convert {\n",
              "      background-color: #E8F0FE;\n",
              "      border: none;\n",
              "      border-radius: 50%;\n",
              "      cursor: pointer;\n",
              "      display: none;\n",
              "      fill: #1967D2;\n",
              "      height: 32px;\n",
              "      padding: 0 0 0 0;\n",
              "      width: 32px;\n",
              "    }\n",
              "\n",
              "    .colab-df-convert:hover {\n",
              "      background-color: #E2EBFA;\n",
              "      box-shadow: 0px 1px 2px rgba(60, 64, 67, 0.3), 0px 1px 3px 1px rgba(60, 64, 67, 0.15);\n",
              "      fill: #174EA6;\n",
              "    }\n",
              "\n",
              "    [theme=dark] .colab-df-convert {\n",
              "      background-color: #3B4455;\n",
              "      fill: #D2E3FC;\n",
              "    }\n",
              "\n",
              "    [theme=dark] .colab-df-convert:hover {\n",
              "      background-color: #434B5C;\n",
              "      box-shadow: 0px 1px 3px 1px rgba(0, 0, 0, 0.15);\n",
              "      filter: drop-shadow(0px 1px 2px rgba(0, 0, 0, 0.3));\n",
              "      fill: #FFFFFF;\n",
              "    }\n",
              "  </style>\n",
              "\n",
              "      <script>\n",
              "        const buttonEl =\n",
              "          document.querySelector('#df-71895b4b-a7a3-4d2f-80bb-b7a2c95f5ee1 button.colab-df-convert');\n",
              "        buttonEl.style.display =\n",
              "          google.colab.kernel.accessAllowed ? 'block' : 'none';\n",
              "\n",
              "        async function convertToInteractive(key) {\n",
              "          const element = document.querySelector('#df-71895b4b-a7a3-4d2f-80bb-b7a2c95f5ee1');\n",
              "          const dataTable =\n",
              "            await google.colab.kernel.invokeFunction('convertToInteractive',\n",
              "                                                     [key], {});\n",
              "          if (!dataTable) return;\n",
              "\n",
              "          const docLinkHtml = 'Like what you see? Visit the ' +\n",
              "            '<a target=\"_blank\" href=https://colab.research.google.com/notebooks/data_table.ipynb>data table notebook</a>'\n",
              "            + ' to learn more about interactive tables.';\n",
              "          element.innerHTML = '';\n",
              "          dataTable['output_type'] = 'display_data';\n",
              "          await google.colab.output.renderOutput(dataTable, element);\n",
              "          const docLink = document.createElement('div');\n",
              "          docLink.innerHTML = docLinkHtml;\n",
              "          element.appendChild(docLink);\n",
              "        }\n",
              "      </script>\n",
              "    </div>\n",
              "  </div>\n",
              "  "
            ]
          },
          "metadata": {},
          "execution_count": 89
        }
      ],
      "source": [
        "from sklearn.metrics import f1_score\n",
        "f1 = f1_score(y_val, y_val_pred, average=None) #f1 score to each label\n",
        "# df with f1 score\n",
        "df_score =pd.DataFrame(index = np.unique([y_val])) \n",
        "df_score['F1_Score'] = f1\n",
        "df_score.to_excel(\"/content/drive/MyDrive/gdrive_folder/Courses/Intro_Data_Science/Final_project_FIFA/Charts_presentation/f1score1.xlsx\")\n",
        "df_score"
      ]
    },
    {
      "cell_type": "markdown",
      "metadata": {
        "id": "at_uDaAozsxy"
      },
      "source": [
        "## Position Classification - Neural Network Model"
      ]
    },
    {
      "cell_type": "code",
      "execution_count": null,
      "metadata": {
        "id": "oY22P-eW0LQZ"
      },
      "outputs": [],
      "source": [
        "# Define X (features) and Y (labels):\n",
        "X = features\n",
        "Y = labels"
      ]
    },
    {
      "cell_type": "code",
      "execution_count": null,
      "metadata": {
        "id": "Rw4bzmc41vBp"
      },
      "outputs": [],
      "source": [
        "# multi-class classification with Keras\n",
        "from keras.models import Sequential\n",
        "from keras.layers import Dense\n",
        "from keras.wrappers.scikit_learn import KerasClassifier\n",
        "from keras.utils import np_utils\n",
        "from sklearn.model_selection import cross_val_score\n",
        "from sklearn.model_selection import KFold\n",
        "from sklearn.preprocessing import LabelEncoder\n",
        "from sklearn.pipeline import Pipeline\n",
        "# encode class values as integers\n",
        "encoder = LabelEncoder()\n",
        "encoder.fit(Y)\n",
        "encoded_Y = encoder.transform(Y)\n",
        "# convert integers to dummy variables (i.e. one hot encoded)\n",
        "dummy_y = np_utils.to_categorical(encoded_Y)\n",
        " \n",
        "# define baseline model\n",
        "def baseline_model():\n",
        "\t# create model\n",
        "\tmodel = Sequential()\n",
        "\tmodel.add(Dense(8, input_dim=36, activation='relu')) #layers for the network\n",
        "\tmodel.add(Dense(29, activation='softmax'))  #layers for the network\n",
        "\t# Compile model\n",
        "\tmodel.compile(loss='categorical_crossentropy', optimizer='adam', metrics=['accuracy'])\n",
        "\treturn model\n",
        " \n",
        "estimator = KerasClassifier(build_fn=baseline_model, epochs=50, batch_size=5, verbose=0)\n",
        "kfold = KFold(n_splits=10, shuffle=True)\n",
        "results = cross_val_score(estimator, X, dummy_y, cv=kfold)\n",
        "print(\"Baseline: %.2f%% (%.2f%%)\" % (results.mean()*100, results.std()*100))"
      ]
    },
    {
      "cell_type": "markdown",
      "metadata": {
        "id": "i5_Lzd-gYK5b"
      },
      "source": [
        "## Posision Classification - Field  Preffered Position "
      ]
    },
    {
      "cell_type": "markdown",
      "metadata": {
        "id": "4lK02aSxzNsf"
      },
      "source": [
        "Now lets perform the models on the column that we create \"Field_Preffered_Position\". We assume that this model will perform better results because it has less features."
      ]
    },
    {
      "cell_type": "code",
      "execution_count": null,
      "metadata": {
        "colab": {
          "base_uri": "https://localhost:8080/"
        },
        "id": "PKeO5jvEYcIb",
        "outputId": "283bd83b-aaab-47e7-a1b3-ff288c375112"
      },
      "outputs": [
        {
          "output_type": "stream",
          "name": "stdout",
          "text": [
            "data before delete Nan = 17588 samples\n",
            "data after delete Nan = 17587 samples\n",
            "['attacking' 'goalkeeper' 'defensive' 'midfield']\n"
          ]
        },
        {
          "output_type": "stream",
          "name": "stderr",
          "text": [
            "/usr/local/lib/python3.7/dist-packages/ipykernel_launcher.py:3: SettingWithCopyWarning: \n",
            "A value is trying to be set on a copy of a slice from a DataFrame.\n",
            "Try using .loc[row_indexer,col_indexer] = value instead\n",
            "\n",
            "See the caveats in the documentation: https://pandas.pydata.org/pandas-docs/stable/user_guide/indexing.html#returning-a-view-versus-a-copy\n",
            "  This is separate from the ipykernel package so we can avoid doing imports until\n"
          ]
        }
      ],
      "source": [
        "features = df_fifa[df_fifa.columns[18:53]] # All the classes with score\n",
        "# Clear Nan:\n",
        "features[\"Field_Preffered_Position\"] = df_fifa[\"Field_Preffered_Position\"] # add the label column just for drop nan from all\n",
        "print(f\"data before delete Nan = {len(features)} samples\")\n",
        "features = features[features!='nan'] #delete nan\n",
        "features = features.dropna() #delete nan\n",
        "print(f\"data after delete Nan = {len(features)} samples\")\n",
        "# define labels coluumn\n",
        "labels = features[\"Field_Preffered_Position\"]\n",
        "features = features.loc[:, features.columns != 'Field_Preffered_Position']  # delete the label column from features\n",
        "labels = labels.dropna() #delete nan\n",
        "print(labels.unique()) # uncomment to see rhe df\n",
        "# print(features) # uncomment to see rhe df"
      ]
    },
    {
      "cell_type": "code",
      "source": [
        "len(features),len(labels)"
      ],
      "metadata": {
        "colab": {
          "base_uri": "https://localhost:8080/"
        },
        "id": "F4klmM5ly2YA",
        "outputId": "a98960fb-6880-4957-8638-39e501e38357"
      },
      "execution_count": null,
      "outputs": [
        {
          "output_type": "execute_result",
          "data": {
            "text/plain": [
              "(17587, 17587)"
            ]
          },
          "metadata": {},
          "execution_count": 91
        }
      ]
    },
    {
      "cell_type": "code",
      "source": [
        "train_ratio = 0.85\n",
        "validation_ratio = 0.15\n",
        "\n",
        "# train is now 75% of the entire data set\n",
        "# the _junk suffix means that we drop that variable completely\n",
        "x_train, x_val, y_train, y_val = train_test_split(features,\n",
        "                                                    labels,\n",
        "                                                    test_size=1 - train_ratio)\n",
        " \n",
        "\n",
        "print(\"x train length: \",len(x_train),\"\\n\",\"x val length: \", len(x_val))"
      ],
      "metadata": {
        "colab": {
          "base_uri": "https://localhost:8080/"
        },
        "id": "GMmSYz60zP-1",
        "outputId": "605ac371-92d3-40a8-e83b-f2c8b129b9bb"
      },
      "execution_count": null,
      "outputs": [
        {
          "output_type": "stream",
          "name": "stdout",
          "text": [
            "x train length:  14948 \n",
            " x val length:  2639\n"
          ]
        }
      ]
    },
    {
      "cell_type": "code",
      "execution_count": null,
      "metadata": {
        "colab": {
          "base_uri": "https://localhost:8080/"
        },
        "id": "EG04GkWxZ61H",
        "outputId": "ff638677-d06a-4dc9-9e9a-65bc2949418a"
      },
      "outputs": [
        {
          "output_type": "stream",
          "name": "stdout",
          "text": [
            "Training: Accuracy: 1.0\n",
            "Validation: Accuracy: 0.9018567639257294\n"
          ]
        }
      ],
      "source": [
        "clf = RandomForestClassifier() # Set the arguments of the classifier\n",
        "# -------- train-----------------#\n",
        "clf.fit(x_train, y_train)\n",
        "\n",
        "y_train_pred = clf.predict(x_train)\n",
        "\n",
        "print(\"Training: Accuracy:\",metrics.accuracy_score(y_train, y_train_pred))\n",
        "\n",
        "# -------- validation-----------------#\n",
        "\n",
        "y_val_pred = clf.predict(x_val)\n",
        "\n",
        "print(\"Validation: Accuracy:\",metrics.accuracy_score(y_val, y_val_pred))\n",
        "\n"
      ]
    },
    {
      "cell_type": "code",
      "source": [
        "# -------- Cross validation-----------------#\n",
        "scores = cross_val_score(clf, features, labels, cv=10)\n",
        "print(\"Cross validation results: %0.2f accuracy with a standard deviation of %0.2f\" % (scores.mean(), scores.std()))"
      ],
      "metadata": {
        "colab": {
          "base_uri": "https://localhost:8080/"
        },
        "id": "hqirsYqPzgks",
        "outputId": "67a25176-fb04-4756-ad3e-9e2e56cb0607"
      },
      "execution_count": null,
      "outputs": [
        {
          "output_type": "stream",
          "name": "stdout",
          "text": [
            "Cross validation results: 0.89 accuracy with a standard deviation of 0.01\n"
          ]
        }
      ]
    },
    {
      "cell_type": "code",
      "execution_count": null,
      "metadata": {
        "colab": {
          "base_uri": "https://localhost:8080/",
          "height": 551
        },
        "id": "YckML33FaClk",
        "outputId": "377d06ef-37b9-4170-9127-f16f8370ff4c"
      },
      "outputs": [
        {
          "output_type": "execute_result",
          "data": {
            "text/plain": [
              "Text(0.5, 1.0, 'Confusion matrix - 0.902 accuracy')"
            ]
          },
          "metadata": {},
          "execution_count": 96
        },
        {
          "output_type": "display_data",
          "data": {
            "text/plain": [
              "<Figure size 720x504 with 2 Axes>"
            ],
            "image/png": "[encoded data removed]"
          },
          "metadata": {
            "needs_background": "light"
          }
        }
      ],
      "source": [
        "# labels to confiusion matrix:\n",
        "unique_label = np.unique([y_val, y_val_pred])\n",
        "\n",
        "# df of confiusion matrix:\n",
        "cmtx = pd.DataFrame(\n",
        "    confusion_matrix(y_val, y_val_pred, labels=unique_label), \n",
        "    index=[x for x in unique_label], \n",
        "    columns=[x for x in unique_label])\n",
        "plt.figure(figsize = (10,7))\n",
        "sns.heatmap(cmtx, annot=True, fmt='d',annot_kws={\"size\": 18})\n",
        "plt.xlabel('Predicted',fontsize = 20)\n",
        "plt.ylabel('Truth', fontsize = 20)\n",
        "plt.xticks(fontsize =15,rotation=45)\n",
        "plt.yticks(fontsize =15,rotation=45)\n",
        "plt.title(f'Confusion matrix - {round(metrics.accuracy_score(y_val, y_val_pred),3)} accuracy', fontsize = 20)\n",
        "# plt.savefig(\"/content/drive/MyDrive/gdrive_folder/Courses/Intro_Data_Science/Final_project_FIFA/Charts_presentation/\" + 'Confusion_matrix2.png',bbox_inches = \"tight\")"
      ]
    },
    {
      "cell_type": "code",
      "execution_count": null,
      "metadata": {
        "colab": {
          "base_uri": "https://localhost:8080/",
          "height": 175
        },
        "id": "MbvMBngYmGvw",
        "outputId": "09104759-ee3c-400b-a80f-772f6b6ae029"
      },
      "outputs": [
        {
          "output_type": "execute_result",
          "data": {
            "text/plain": [
              "            F1_Score\n",
              "attacking   0.844773\n",
              "defensive   0.937741\n",
              "goalkeeper  1.000000\n",
              "midfield    0.866183"
            ],
            "text/html": [
              "\n",
              "  <div id=\"df-c0483f44-8058-40c4-9580-a145b9455eaf\">\n",
              "    <div class=\"colab-df-container\">\n",
              "      <div>\n",
              "<style scoped>\n",
              "    .dataframe tbody tr th:only-of-type {\n",
              "        vertical-align: middle;\n",
              "    }\n",
              "\n",
              "    .dataframe tbody tr th {\n",
              "        vertical-align: top;\n",
              "    }\n",
              "\n",
              "    .dataframe thead th {\n",
              "        text-align: right;\n",
              "    }\n",
              "</style>\n",
              "<table border=\"1\" class=\"dataframe\">\n",
              "  <thead>\n",
              "    <tr style=\"text-align: right;\">\n",
              "      <th></th>\n",
              "      <th>F1_Score</th>\n",
              "    </tr>\n",
              "  </thead>\n",
              "  <tbody>\n",
              "    <tr>\n",
              "      <th>attacking</th>\n",
              "      <td>0.844773</td>\n",
              "    </tr>\n",
              "    <tr>\n",
              "      <th>defensive</th>\n",
              "      <td>0.937741</td>\n",
              "    </tr>\n",
              "    <tr>\n",
              "      <th>goalkeeper</th>\n",
              "      <td>1.000000</td>\n",
              "    </tr>\n",
              "    <tr>\n",
              "      <th>midfield</th>\n",
              "      <td>0.866183</td>\n",
              "    </tr>\n",
              "  </tbody>\n",
              "</table>\n",
              "</div>\n",
              "      <button class=\"colab-df-convert\" onclick=\"convertToInteractive('df-c0483f44-8058-40c4-9580-a145b9455eaf')\"\n",
              "              title=\"Convert this dataframe to an interactive table.\"\n",
              "              style=\"display:none;\">\n",
              "        \n",
              "  <svg xmlns=\"http://www.w3.org/2000/svg\" height=\"24px\"viewBox=\"0 0 24 24\"\n",
              "       width=\"24px\">\n",
              "    <path d=\"M0 0h24v24H0V0z\" fill=\"none\"/>\n",
              "    <path d=\"M18.56 5.44l.94 2.06.94-2.06 2.06-.94-2.06-.94-.94-2.06-.94 2.06-2.06.94zm-11 1L8.5 8.5l.94-2.06 2.06-.94-2.06-.94L8.5 2.5l-.94 2.06-2.06.94zm10 10l.94 2.06.94-2.06 2.06-.94-2.06-.94-.94-2.06-.94 2.06-2.06.94z\"/><path d=\"M17.41 7.96l-1.37-1.37c-.4-.4-.92-.59-1.43-.59-.52 0-1.04.2-1.43.59L10.3 9.45l-7.72 7.72c-.78.78-.78 2.05 0 2.83L4 21.41c.39.39.9.59 1.41.59.51 0 1.02-.2 1.41-.59l7.78-7.78 2.81-2.81c.8-.78.8-2.07 0-2.86zM5.41 20L4 18.59l7.72-7.72 1.47 1.35L5.41 20z\"/>\n",
              "  </svg>\n",
              "      </button>\n",
              "      \n",
              "  <style>\n",
              "    .colab-df-container {\n",
              "      display:flex;\n",
              "      flex-wrap:wrap;\n",
              "      gap: 12px;\n",
              "    }\n",
              "\n",
              "    .colab-df-convert {\n",
              "      background-color: #E8F0FE;\n",
              "      border: none;\n",
              "      border-radius: 50%;\n",
              "      cursor: pointer;\n",
              "      display: none;\n",
              "      fill: #1967D2;\n",
              "      height: 32px;\n",
              "      padding: 0 0 0 0;\n",
              "      width: 32px;\n",
              "    }\n",
              "\n",
              "    .colab-df-convert:hover {\n",
              "      background-color: #E2EBFA;\n",
              "      box-shadow: 0px 1px 2px rgba(60, 64, 67, 0.3), 0px 1px 3px 1px rgba(60, 64, 67, 0.15);\n",
              "      fill: #174EA6;\n",
              "    }\n",
              "\n",
              "    [theme=dark] .colab-df-convert {\n",
              "      background-color: #3B4455;\n",
              "      fill: #D2E3FC;\n",
              "    }\n",
              "\n",
              "    [theme=dark] .colab-df-convert:hover {\n",
              "      background-color: #434B5C;\n",
              "      box-shadow: 0px 1px 3px 1px rgba(0, 0, 0, 0.15);\n",
              "      filter: drop-shadow(0px 1px 2px rgba(0, 0, 0, 0.3));\n",
              "      fill: #FFFFFF;\n",
              "    }\n",
              "  </style>\n",
              "\n",
              "      <script>\n",
              "        const buttonEl =\n",
              "          document.querySelector('#df-c0483f44-8058-40c4-9580-a145b9455eaf button.colab-df-convert');\n",
              "        buttonEl.style.display =\n",
              "          google.colab.kernel.accessAllowed ? 'block' : 'none';\n",
              "\n",
              "        async function convertToInteractive(key) {\n",
              "          const element = document.querySelector('#df-c0483f44-8058-40c4-9580-a145b9455eaf');\n",
              "          const dataTable =\n",
              "            await google.colab.kernel.invokeFunction('convertToInteractive',\n",
              "                                                     [key], {});\n",
              "          if (!dataTable) return;\n",
              "\n",
              "          const docLinkHtml = 'Like what you see? Visit the ' +\n",
              "            '<a target=\"_blank\" href=https://colab.research.google.com/notebooks/data_table.ipynb>data table notebook</a>'\n",
              "            + ' to learn more about interactive tables.';\n",
              "          element.innerHTML = '';\n",
              "          dataTable['output_type'] = 'display_data';\n",
              "          await google.colab.output.renderOutput(dataTable, element);\n",
              "          const docLink = document.createElement('div');\n",
              "          docLink.innerHTML = docLinkHtml;\n",
              "          element.appendChild(docLink);\n",
              "        }\n",
              "      </script>\n",
              "    </div>\n",
              "  </div>\n",
              "  "
            ]
          },
          "metadata": {},
          "execution_count": 97
        }
      ],
      "source": [
        "from sklearn.metrics import f1_score\n",
        "f1 = f1_score(y_val, y_val_pred, average=None) #f1 score to each label\n",
        "# df with f1 score\n",
        "df_score =pd.DataFrame(index = np.unique([y_val])) \n",
        "df_score['F1_Score'] = f1\n",
        "df_score"
      ]
    },
    {
      "cell_type": "markdown",
      "metadata": {
        "id": "LUaoJQ7Hl4BA"
      },
      "source": [
        "### Feature importence"
      ]
    },
    {
      "cell_type": "code",
      "execution_count": null,
      "metadata": {
        "colab": {
          "base_uri": "https://localhost:8080/"
        },
        "id": "GmOUcO7ol1nT",
        "outputId": "e5c82377-959f-423b-879e-d8630d671dda"
      },
      "outputs": [
        {
          "output_type": "stream",
          "name": "stdout",
          "text": [
            "Elapsed time to compute the importances: 35.512 seconds\n"
          ]
        }
      ],
      "source": [
        "import time\n",
        "from sklearn.inspection import permutation_importance\n",
        "\n",
        "start_time = time.time()\n",
        "result = permutation_importance(\n",
        "    clf, x_val, y_val, n_repeats=10, random_state=42, n_jobs=2\n",
        ")\n",
        "elapsed_time = time.time() - start_time\n",
        "print(f\"Elapsed time to compute the importances: {elapsed_time:.3f} seconds\")\n",
        "\n",
        "forest_importances = pd.Series(result.importances_mean, index=features.columns)"
      ]
    },
    {
      "cell_type": "code",
      "execution_count": null,
      "metadata": {
        "colab": {
          "base_uri": "https://localhost:8080/",
          "height": 606
        },
        "id": "4DRkjb3bmld-",
        "outputId": "88d319db-8f7e-4e3b-f03d-c86b37fa0644"
      },
      "outputs": [
        {
          "output_type": "display_data",
          "data": {
            "text/plain": [
              "<Figure size 1080x504 with 1 Axes>"
            ],
            "image/png": "[encoded data removed]"
          },
          "metadata": {
            "needs_background": "light"
          }
        }
      ],
      "source": [
        "fig, ax = plt.subplots(figsize = (15,7))\n",
        "forest_importances.plot.bar(yerr=result.importances_std, ax=ax,color = \"teal\")\n",
        "ax.set_title(\"Feature importances using permutation on full model\",fontsize = 22)\n",
        "ax.set_ylabel(\"Mean accuracy decrease\",fontsize = 22)\n",
        "# We change the fontsize of minor ticks label \n",
        "# ax.tick_params(axis='both', which='major', labelsize=20)\n",
        "plt.xticks(fontsize =18)\n",
        "plt.yticks(fontsize =18)\n",
        "# fig.tight_layout()\n",
        "plt.savefig(\"/content/drive/MyDrive/gdrive_folder/Courses/Intro_Data_Science/Final_project_FIFA/Charts_presentation/\" + 'Feature_impotrence.png',bbox_inches = \"tight\")"
      ]
    },
    {
      "cell_type": "markdown",
      "source": [
        "## Neural Network"
      ],
      "metadata": {
        "id": "qYV-ZauMGsjP"
      }
    },
    {
      "cell_type": "code",
      "execution_count": null,
      "metadata": {
        "id": "Ea0OS_Md1AEs"
      },
      "outputs": [],
      "source": [
        "# Define X (features) and Y (labels):\n",
        "X = features\n",
        "Y = labels"
      ]
    },
    {
      "cell_type": "code",
      "execution_count": null,
      "metadata": {
        "id": "Pp_iy2nN1jRw"
      },
      "outputs": [],
      "source": [
        "# multi-class classification with Keras\n",
        "import pandas\n",
        "from keras.models import Sequential\n",
        "from keras.layers import Dense\n",
        "from keras.wrappers.scikit_learn import KerasClassifier\n",
        "from keras.utils import np_utils\n",
        "from sklearn.model_selection import cross_val_score\n",
        "from sklearn.model_selection import KFold\n",
        "from sklearn.preprocessing import LabelEncoder\n",
        "from sklearn.pipeline import Pipeline\n",
        "# encode class values as integers\n",
        "encoder = LabelEncoder()\n",
        "encoder.fit(Y)\n",
        "encoded_Y = encoder.transform(Y)\n",
        "# convert integers to dummy variables (i.e. one hot encoded)\n",
        "dummy_y = np_utils.to_categorical(encoded_Y)\n",
        " \n",
        "# define baseline model\n",
        "def baseline_model():\n",
        "\t# create model\n",
        "\tmodel = Sequential()\n",
        "\tmodel.add(Dense(8, input_dim=35, activation='relu')) #layers for the network\n",
        "\tmodel.add(Dense(8,activation='relu')) #layers for the network\n",
        "\tmodel.add(Dense(8,activation='relu')) #layers for the network\n",
        "\tmodel.add(Dense(4, activation='softmax'))  #layers for the network different activation function\n",
        "\t# Compile model\n",
        "\tmodel.compile(loss='categorical_crossentropy', optimizer='adam', metrics=['accuracy'])\n",
        "\n",
        "\treturn model\n",
        " \n",
        "estimator = KerasClassifier(build_fn=baseline_model, epochs=20, batch_size=5, verbose=0)\n",
        "# estimator.save(\"/content/drive/MyDrive/gdrive_folder/Courses/Intro_Data_Science/Final_project_FIFA/NN_clasiffication_\")\n",
        "kfold = KFold(n_splits=10, shuffle=True)\n",
        "results = cross_val_score(estimator, X, dummy_y, cv=kfold)\n",
        "print(\"Baseline: %.2f%% (%.2f%%)\" % (results.mean()*100, results.std()*100))\n",
        "\n"
      ]
    }
  ],
  "metadata": {
    "colab": {
      "collapsed_sections": [
        "h7OVQJpHZWjF",
        "Y7Jp39o-0dcR",
        "x1y1snNs4fjf",
        "icVlJMSOp4jK",
        "JIy7oBEnGOn1",
        "JcxUITqE6eBO",
        "LVMbClR5F-bV",
        "2GYsqEFUHP7X",
        "exAEVB4uRFRm",
        "uH3QjrjGruWI",
        "pkHJJgyDNOtE",
        "at_uDaAozsxy"
      ],
      "name": "Final_project_2.ipynb",
      "provenance": [],
      "toc_visible": true,
      "include_colab_link": true
    },
    "kernelspec": {
      "display_name": "Python 3",
      "name": "python3"
    },
    "language_info": {
      "name": "python"
    }
  },
  "nbformat": 4,
  "nbformat_minor": 0
}
